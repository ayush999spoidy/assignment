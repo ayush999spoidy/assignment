{
  "nbformat": 4,
  "nbformat_minor": 0,
  "metadata": {
    "colab": {
      "provenance": []
    },
    "kernelspec": {
      "name": "python3",
      "display_name": "Python 3"
    },
    "language_info": {
      "name": "python"
    }
  },
  "cells": [
    {
      "cell_type": "markdown",
      "source": [
        "1.What is the difference between a function and a method in Python?"
      ],
      "metadata": {
        "id": "M4XEOfG2ECow"
      }
    },
    {
      "cell_type": "markdown",
      "source": [
        "Ans.The key difference between a function and a method in Python is:\n",
        "\n",
        "1.A function is implemented outside of a class. It does not belong to an object.\n",
        "2.A method is implemented inside of a class. It belongs to an object.\n"
      ],
      "metadata": {
        "id": "QYIoZbQ4ECbR"
      }
    },
    {
      "cell_type": "code",
      "execution_count": 4,
      "metadata": {
        "id": "y-dyi6GcDud_"
      },
      "outputs": [],
      "source": [
        "def greetings(name):\n",
        "  print(\"welcome to the world\",name)"
      ]
    },
    {
      "cell_type": "code",
      "source": [
        "greetings(\"ayush\")"
      ],
      "metadata": {
        "colab": {
          "base_uri": "https://localhost:8080/"
        },
        "id": "CoN2CDzDIkY7",
        "outputId": "65021825-511f-4aad-e3da-4eb290481a73"
      },
      "execution_count": 5,
      "outputs": [
        {
          "output_type": "stream",
          "name": "stdout",
          "text": [
            "welcome to the world ayush\n"
          ]
        }
      ]
    },
    {
      "cell_type": "markdown",
      "source": [
        "2.Parameters are variables defined in the function definition."
      ],
      "metadata": {
        "id": "6e96GUECKPXE"
      }
    },
    {
      "cell_type": "markdown",
      "source": [
        "Ans.Parameters are the variables listed inside the parentheses in the function definition.\n",
        "They act as placeholders for the values that will be passed to the function when it is called.Arguments are the actual values or data passed to the function when it is invoked.\n",
        "These values are assigned to the function’s parameters."
      ],
      "metadata": {
        "id": "g7OscvU6KPDW"
      }
    },
    {
      "cell_type": "code",
      "source": [
        "\n",
        "def greetings(name): #here \"name\" is parameter\n",
        "  print(\"welcome to the world\",name)"
      ],
      "metadata": {
        "id": "y_sfue0eJcBA"
      },
      "execution_count": 6,
      "outputs": []
    },
    {
      "cell_type": "code",
      "source": [
        "greetings(\"ayush\")#here \"ayush\" is a argument"
      ],
      "metadata": {
        "colab": {
          "base_uri": "https://localhost:8080/"
        },
        "id": "f1CqCvZ1MaXl",
        "outputId": "10118767-c7e7-4323-df64-2075e4b42357"
      },
      "execution_count": 8,
      "outputs": [
        {
          "output_type": "stream",
          "name": "stdout",
          "text": [
            "welcome to the world ayush\n"
          ]
        }
      ]
    },
    {
      "cell_type": "markdown",
      "source": [
        "3.What are the different ways to define and call a function in Python?"
      ],
      "metadata": {
        "id": "gLH3B-VHMxI2"
      }
    },
    {
      "cell_type": "markdown",
      "source": [
        "Ans.In Python, functions are defined using the def keyword and can be called in various ways depending on how they are defined and how arguments are passed. there are the different ways to define and call function."
      ],
      "metadata": {
        "id": "c5EZq3cxMw78"
      }
    },
    {
      "cell_type": "code",
      "source": [
        "#def spoidy():\n",
        " # print(\"welcome to the home\")"
      ],
      "metadata": {
        "id": "m3guwqMMMeBI"
      },
      "execution_count": 11,
      "outputs": []
    },
    {
      "cell_type": "code",
      "source": [
        "#spoidy()"
      ],
      "metadata": {
        "colab": {
          "base_uri": "https://localhost:8080/"
        },
        "id": "UbfIbxmeOJsX",
        "outputId": "29c6bf84-b9cd-4d0a-ef26-839bb6fbe290"
      },
      "execution_count": 10,
      "outputs": [
        {
          "output_type": "stream",
          "name": "stdout",
          "text": [
            "welcome to the home\n"
          ]
        }
      ]
    },
    {
      "cell_type": "code",
      "source": [
        "# def spoidy(name): with parameeter\n",
        "  #print(\"welcome\",name)"
      ],
      "metadata": {
        "id": "09MxvAadOK1_"
      },
      "execution_count": 12,
      "outputs": []
    },
    {
      "cell_type": "code",
      "source": [
        "#spoidy(\"ayush\")"
      ],
      "metadata": {
        "colab": {
          "base_uri": "https://localhost:8080/"
        },
        "id": "AimTnb-lOdQA",
        "outputId": "ec1b722e-51f1-4170-ec1d-30cb2d2f70aa"
      },
      "execution_count": 13,
      "outputs": [
        {
          "output_type": "stream",
          "name": "stdout",
          "text": [
            "welcome ayush\n"
          ]
        }
      ]
    },
    {
      "cell_type": "code",
      "source": [
        "#def spoidy(a,b): with the return value\n",
        " # return (a*b)+(a+b)"
      ],
      "metadata": {
        "id": "qs1KCZwOOe1j"
      },
      "execution_count": 15,
      "outputs": []
    },
    {
      "cell_type": "code",
      "source": [
        "#spoidy(5,6)"
      ],
      "metadata": {
        "colab": {
          "base_uri": "https://localhost:8080/"
        },
        "id": "Eg8UZVCfPcLo",
        "outputId": "9928df59-6fff-4744-a7b5-80b7fd43a864"
      },
      "execution_count": 16,
      "outputs": [
        {
          "output_type": "execute_result",
          "data": {
            "text/plain": [
              "41"
            ]
          },
          "metadata": {},
          "execution_count": 16
        }
      ]
    },
    {
      "cell_type": "code",
      "source": [
        "#with default parameter\n",
        "def spoidy(name=\"ayush\"):\n",
        "  print(\"hello\" +name)"
      ],
      "metadata": {
        "id": "VNTY4bHuPihr"
      },
      "execution_count": 21,
      "outputs": []
    },
    {
      "cell_type": "code",
      "source": [
        "spoidy()"
      ],
      "metadata": {
        "colab": {
          "base_uri": "https://localhost:8080/"
        },
        "id": "fTlUlo3GP3-Z",
        "outputId": "564cf3ba-19df-4b44-82fe-6f41ffbbc312"
      },
      "execution_count": 22,
      "outputs": [
        {
          "output_type": "stream",
          "name": "stdout",
          "text": [
            "helloayush\n"
          ]
        }
      ]
    },
    {
      "cell_type": "markdown",
      "source": [
        "4.What is the purpose of the return statement in a Python function?\n",
        "\n",
        "\n",
        "\n"
      ],
      "metadata": {
        "id": "hQ0IC-bgQKQ7"
      }
    },
    {
      "cell_type": "markdown",
      "source": [
        "Ans.The Python return statement allows you to send any Python object from your custom functions back to the caller code."
      ],
      "metadata": {
        "id": "MdPeIUdnQJbH"
      }
    },
    {
      "cell_type": "code",
      "source": [
        "def spoidy(a,b):\n",
        "  return (a*b)+(a+b)"
      ],
      "metadata": {
        "id": "XhlDWF6HQA8G"
      },
      "execution_count": 23,
      "outputs": []
    },
    {
      "cell_type": "code",
      "source": [
        "spoidy(6,5)"
      ],
      "metadata": {
        "colab": {
          "base_uri": "https://localhost:8080/"
        },
        "id": "mL5FRRsvRdHN",
        "outputId": "d40ee4a5-41e3-4f0d-8ee9-6d956b859ef5"
      },
      "execution_count": 24,
      "outputs": [
        {
          "output_type": "execute_result",
          "data": {
            "text/plain": [
              "41"
            ]
          },
          "metadata": {},
          "execution_count": 24
        }
      ]
    },
    {
      "cell_type": "markdown",
      "source": [
        "5.What are iterators in Python and how do they differ from iterables?"
      ],
      "metadata": {
        "id": "U-2sY4iHSBIG"
      }
    },
    {
      "cell_type": "markdown",
      "source": [
        "Ans.iterator is an object, which is used to iterate over an iterable object using the next () method,which returns the next item of the object.Iterable is an object, that one can iterate over. It generates an Iterator when passed to iter () method."
      ],
      "metadata": {
        "id": "7-_1LdvvSA27"
      }
    },
    {
      "cell_type": "code",
      "source": [
        "#iterables\n",
        "my_list = [1,2,3]"
      ],
      "metadata": {
        "id": "siFrSZYYRfbU"
      },
      "execution_count": 25,
      "outputs": []
    },
    {
      "cell_type": "code",
      "source": [
        "my_list"
      ],
      "metadata": {
        "colab": {
          "base_uri": "https://localhost:8080/"
        },
        "id": "trf6V4wfTKcG",
        "outputId": "dc5c1dfc-c1f1-4447-b2b6-9945fcff65d3"
      },
      "execution_count": 26,
      "outputs": [
        {
          "output_type": "execute_result",
          "data": {
            "text/plain": [
              "[1, 2, 3]"
            ]
          },
          "metadata": {},
          "execution_count": 26
        }
      ]
    },
    {
      "cell_type": "code",
      "source": [
        "for i in my_list:\n",
        "  print(i)"
      ],
      "metadata": {
        "colab": {
          "base_uri": "https://localhost:8080/"
        },
        "id": "OW1DHNnDTMHG",
        "outputId": "82ac0478-e6c9-4239-c8c7-aef04526a8b0"
      },
      "execution_count": 27,
      "outputs": [
        {
          "output_type": "stream",
          "name": "stdout",
          "text": [
            "1\n",
            "2\n",
            "3\n"
          ]
        }
      ]
    },
    {
      "cell_type": "code",
      "source": [
        "#iterators\n",
        "my_list1 =  [1,2,3]"
      ],
      "metadata": {
        "id": "ZdXsR6dFTPo-"
      },
      "execution_count": 30,
      "outputs": []
    },
    {
      "cell_type": "code",
      "source": [
        "my_list"
      ],
      "metadata": {
        "colab": {
          "base_uri": "https://localhost:8080/"
        },
        "id": "3zOhETKlTiT2",
        "outputId": "95577a87-342a-43b9-e4a0-ed7859cdf95a"
      },
      "execution_count": 31,
      "outputs": [
        {
          "output_type": "execute_result",
          "data": {
            "text/plain": [
              "[1, 2, 3]"
            ]
          },
          "metadata": {},
          "execution_count": 31
        }
      ]
    },
    {
      "cell_type": "code",
      "source": [
        "like = iter(my_list)"
      ],
      "metadata": {
        "id": "KxOp2-jRTv2c"
      },
      "execution_count": 32,
      "outputs": []
    },
    {
      "cell_type": "code",
      "source": [
        "next(like)"
      ],
      "metadata": {
        "colab": {
          "base_uri": "https://localhost:8080/"
        },
        "id": "NJfWuGk6T0-T",
        "outputId": "1c8d0d22-b977-4ea2-ece0-8f8855dc117a"
      },
      "execution_count": 33,
      "outputs": [
        {
          "output_type": "execute_result",
          "data": {
            "text/plain": [
              "1"
            ]
          },
          "metadata": {},
          "execution_count": 33
        }
      ]
    },
    {
      "cell_type": "code",
      "source": [
        "next(like)"
      ],
      "metadata": {
        "colab": {
          "base_uri": "https://localhost:8080/"
        },
        "id": "qT_YzeZCT4AZ",
        "outputId": "4792e22f-30c6-4737-c581-1257b1c26425"
      },
      "execution_count": 34,
      "outputs": [
        {
          "output_type": "execute_result",
          "data": {
            "text/plain": [
              "2"
            ]
          },
          "metadata": {},
          "execution_count": 34
        }
      ]
    },
    {
      "cell_type": "markdown",
      "source": [
        "6.Explain the concept of generators in Python and how they are defined\n",
        "\n",
        "\n",
        "\n",
        "\n"
      ],
      "metadata": {
        "id": "DuvVHHE2UMRI"
      }
    },
    {
      "cell_type": "markdown",
      "source": [
        "Ans.A Generator in Python is a function that returns an iterator using the Yield keyword,generators are a special type of iterator that allow you to iterate over a sequence of values lazily,they are useful when dealing with large datasets because they generate values on the fly."
      ],
      "metadata": {
        "id": "vg2Ko4bwUNPC"
      }
    },
    {
      "cell_type": "code",
      "source": [
        "def piyush(n):\n",
        "  a = 2\n",
        "  b = 3\n",
        "  for i in range(n):\n",
        "    yield a\n",
        "    a,b=b,a+b"
      ],
      "metadata": {
        "id": "SbSHx4OoT6Jv"
      },
      "execution_count": 35,
      "outputs": []
    },
    {
      "cell_type": "code",
      "source": [
        "ayush = piyush(10)"
      ],
      "metadata": {
        "id": "JiAYhIU_V-ZB"
      },
      "execution_count": 37,
      "outputs": []
    },
    {
      "cell_type": "code",
      "source": [
        "next(ayush)"
      ],
      "metadata": {
        "colab": {
          "base_uri": "https://localhost:8080/"
        },
        "id": "U2kFvXfNWAmk",
        "outputId": "8202da3b-4cec-467e-87b9-ac66d6fa9ec3"
      },
      "execution_count": 38,
      "outputs": [
        {
          "output_type": "execute_result",
          "data": {
            "text/plain": [
              "2"
            ]
          },
          "metadata": {},
          "execution_count": 38
        }
      ]
    },
    {
      "cell_type": "code",
      "source": [
        "next(ayush)"
      ],
      "metadata": {
        "colab": {
          "base_uri": "https://localhost:8080/"
        },
        "id": "pu_4CJlkWFY9",
        "outputId": "f1d182f1-34ae-4a3b-a8a7-7c97abf27e8e"
      },
      "execution_count": 39,
      "outputs": [
        {
          "output_type": "execute_result",
          "data": {
            "text/plain": [
              "3"
            ]
          },
          "metadata": {},
          "execution_count": 39
        }
      ]
    },
    {
      "cell_type": "code",
      "source": [
        "next(ayush)"
      ],
      "metadata": {
        "colab": {
          "base_uri": "https://localhost:8080/"
        },
        "id": "FLmEFTWqWHV5",
        "outputId": "c689bb9b-774d-40da-946a-77e091305f0f"
      },
      "execution_count": 40,
      "outputs": [
        {
          "output_type": "execute_result",
          "data": {
            "text/plain": [
              "5"
            ]
          },
          "metadata": {},
          "execution_count": 40
        }
      ]
    },
    {
      "cell_type": "code",
      "source": [
        "next(ayush)"
      ],
      "metadata": {
        "colab": {
          "base_uri": "https://localhost:8080/"
        },
        "id": "Fz-uzMcxWQvL",
        "outputId": "083d7329-b0b9-4c5a-e560-c89b02dda79f"
      },
      "execution_count": 41,
      "outputs": [
        {
          "output_type": "execute_result",
          "data": {
            "text/plain": [
              "8"
            ]
          },
          "metadata": {},
          "execution_count": 41
        }
      ]
    },
    {
      "cell_type": "code",
      "source": [
        "next(ayush)"
      ],
      "metadata": {
        "colab": {
          "base_uri": "https://localhost:8080/"
        },
        "id": "0JwQP1YWWVBA",
        "outputId": "4fe72e98-1360-4070-bbf1-cc9b6e84fcf2"
      },
      "execution_count": 42,
      "outputs": [
        {
          "output_type": "execute_result",
          "data": {
            "text/plain": [
              "13"
            ]
          },
          "metadata": {},
          "execution_count": 42
        }
      ]
    },
    {
      "cell_type": "markdown",
      "source": [
        "7.What are the advantages of using generators over regular functions?"
      ],
      "metadata": {
        "id": "DbXB1CoOXBQO"
      }
    },
    {
      "cell_type": "markdown",
      "source": [
        "Ans.One of the biggest advantages of generators is that they are memory efficient. Since a generator yields its values one by one, it does not need to store all of the values in memory at once.Generators lead to cleaner, more readable code."
      ],
      "metadata": {
        "id": "wWv6YsOQXBCs"
      }
    },
    {
      "cell_type": "code",
      "source": [
        "def piyush(n):\n",
        "  a = 2\n",
        "  b = 3\n",
        "  for i in range(n):\n",
        "    yield a\n",
        "    a,b=b,a+b"
      ],
      "metadata": {
        "id": "B_fMYWT2WX4h"
      },
      "execution_count": 43,
      "outputs": []
    },
    {
      "cell_type": "code",
      "source": [
        "piyush(1000)"
      ],
      "metadata": {
        "colab": {
          "base_uri": "https://localhost:8080/"
        },
        "id": "6ZCNFXwOX7vK",
        "outputId": "4f042923-dc37-40a9-b704-07aa83c51497"
      },
      "execution_count": 44,
      "outputs": [
        {
          "output_type": "execute_result",
          "data": {
            "text/plain": [
              "<generator object piyush at 0x7d039f64cf90>"
            ]
          },
          "metadata": {},
          "execution_count": 44
        }
      ]
    },
    {
      "cell_type": "code",
      "source": [
        "ayush=piyush(10)"
      ],
      "metadata": {
        "id": "8v_w1R2tX_Fq"
      },
      "execution_count": 48,
      "outputs": []
    },
    {
      "cell_type": "code",
      "source": [
        "next(ayush)"
      ],
      "metadata": {
        "colab": {
          "base_uri": "https://localhost:8080/"
        },
        "id": "8E6vSS0_YCIM",
        "outputId": "a7bff9a1-9a73-4142-aa5f-b3b624cbefe6"
      },
      "execution_count": 49,
      "outputs": [
        {
          "output_type": "execute_result",
          "data": {
            "text/plain": [
              "2"
            ]
          },
          "metadata": {},
          "execution_count": 49
        }
      ]
    },
    {
      "cell_type": "code",
      "source": [
        "for i in ayush:\n",
        "  print(i)"
      ],
      "metadata": {
        "colab": {
          "base_uri": "https://localhost:8080/"
        },
        "id": "OzUPQINSYE8q",
        "outputId": "8bade56b-b8cc-4205-a362-7ad513d98a38"
      },
      "execution_count": 50,
      "outputs": [
        {
          "output_type": "stream",
          "name": "stdout",
          "text": [
            "3\n",
            "5\n",
            "8\n",
            "13\n",
            "21\n",
            "34\n",
            "55\n",
            "89\n",
            "144\n"
          ]
        }
      ]
    },
    {
      "cell_type": "markdown",
      "source": [
        "8.. What is a lambda function in Python and when is it typically used?"
      ],
      "metadata": {
        "id": "VBz0hfdqZNEm"
      }
    },
    {
      "cell_type": "markdown",
      "source": [
        "Ans.lambda function are small, anonymous function defined using the lambda keywords, they are used for creating small, throwaway functions without the need to formally define a function using def."
      ],
      "metadata": {
        "id": "FPUwvovEZM2z"
      }
    },
    {
      "cell_type": "code",
      "source": [
        "my_light = lambda x:x*2"
      ],
      "metadata": {
        "id": "BnpGTZUnYIgd"
      },
      "execution_count": 54,
      "outputs": []
    },
    {
      "cell_type": "code",
      "source": [
        "my_light(2)"
      ],
      "metadata": {
        "colab": {
          "base_uri": "https://localhost:8080/"
        },
        "id": "XmlGSDpvaB7E",
        "outputId": "c14465fc-d022-47eb-9b6a-671aa6f32286"
      },
      "execution_count": 55,
      "outputs": [
        {
          "output_type": "execute_result",
          "data": {
            "text/plain": [
              "4"
            ]
          },
          "metadata": {},
          "execution_count": 55
        }
      ]
    },
    {
      "cell_type": "code",
      "source": [
        "my_light(6)"
      ],
      "metadata": {
        "colab": {
          "base_uri": "https://localhost:8080/"
        },
        "id": "T_ZQzrdmaFuZ",
        "outputId": "eddb7743-5030-48fc-c2d0-06091dabaec6"
      },
      "execution_count": 56,
      "outputs": [
        {
          "output_type": "execute_result",
          "data": {
            "text/plain": [
              "12"
            ]
          },
          "metadata": {},
          "execution_count": 56
        }
      ]
    },
    {
      "cell_type": "code",
      "source": [
        "my_light = lambda x:x**2"
      ],
      "metadata": {
        "id": "uhyA-H5DaICU"
      },
      "execution_count": 57,
      "outputs": []
    },
    {
      "cell_type": "code",
      "source": [
        "my_light(2)"
      ],
      "metadata": {
        "colab": {
          "base_uri": "https://localhost:8080/"
        },
        "id": "ssTZc7r7aXA5",
        "outputId": "b3ac43d3-ab4d-465c-f8fe-e1a7c2d978a7"
      },
      "execution_count": 58,
      "outputs": [
        {
          "output_type": "execute_result",
          "data": {
            "text/plain": [
              "4"
            ]
          },
          "metadata": {},
          "execution_count": 58
        }
      ]
    },
    {
      "cell_type": "code",
      "source": [
        "my_light(6)"
      ],
      "metadata": {
        "colab": {
          "base_uri": "https://localhost:8080/"
        },
        "id": "UJxJSdXVaY7p",
        "outputId": "abc8136a-af81-4581-ef29-aa9bd03a8e1a"
      },
      "execution_count": 59,
      "outputs": [
        {
          "output_type": "execute_result",
          "data": {
            "text/plain": [
              "36"
            ]
          },
          "metadata": {},
          "execution_count": 59
        }
      ]
    },
    {
      "cell_type": "markdown",
      "source": [
        "9.Explain the purpose and usage of the map() function in Python."
      ],
      "metadata": {
        "id": "IXw_GZSwaxTk"
      }
    },
    {
      "cell_type": "markdown",
      "source": [
        "Ans.applies a given function to all time to all items in an input list and return an iterator with the results."
      ],
      "metadata": {
        "id": "B5WhQ8pFaxFc"
      }
    },
    {
      "cell_type": "code",
      "source": [
        "numb = [1,2,3]"
      ],
      "metadata": {
        "id": "zQNTC-51ab0p"
      },
      "execution_count": 60,
      "outputs": []
    },
    {
      "cell_type": "code",
      "source": [
        "list(map(lambda n: n**2,numb))"
      ],
      "metadata": {
        "colab": {
          "base_uri": "https://localhost:8080/"
        },
        "id": "bUZw4GTceVcd",
        "outputId": "4e115f9f-6e6d-43dc-b9e7-ebf7a171bea5"
      },
      "execution_count": 61,
      "outputs": [
        {
          "output_type": "execute_result",
          "data": {
            "text/plain": [
              "[1, 4, 9]"
            ]
          },
          "metadata": {},
          "execution_count": 61
        }
      ]
    },
    {
      "cell_type": "markdown",
      "source": [
        "10.What is the difference between map(), reduce(), and filter() functions in Python?"
      ],
      "metadata": {
        "id": "DcoAvm8Ge1m2"
      }
    },
    {
      "cell_type": "markdown",
      "source": [
        "Ans.In Python, the functions map(), filter(), and reduce() are part of the functional programming toolkit, designed to operate on iterables like lists or tuples it can be used for diferent purpose.\n",
        "map - It is useful when you want to transform each element of an iterable based on a function.\n",
        "filter- It is useful when you want to select certain elements from an iterable that meet a specific condition.\n",
        "reduce - It’s useful for performing cumulative operations, such as summing, multiplying, or finding the maximum of a sequence."
      ],
      "metadata": {
        "id": "5Ln6WocDe1WX"
      }
    },
    {
      "cell_type": "code",
      "source": [
        "#map\n",
        "numb = [1,2,3]"
      ],
      "metadata": {
        "id": "aOCwL4tDertx"
      },
      "execution_count": 62,
      "outputs": []
    },
    {
      "cell_type": "code",
      "source": [
        "list(map(lambda n: n**2,numb))"
      ],
      "metadata": {
        "colab": {
          "base_uri": "https://localhost:8080/"
        },
        "id": "7DtnE6ZVgE0f",
        "outputId": "79a1ab5b-e8e5-490c-a1b1-8bd3ff2a6955"
      },
      "execution_count": 63,
      "outputs": [
        {
          "output_type": "execute_result",
          "data": {
            "text/plain": [
              "[1, 4, 9]"
            ]
          },
          "metadata": {},
          "execution_count": 63
        }
      ]
    },
    {
      "cell_type": "code",
      "source": [
        "#filter\n",
        "l = [1,2,3,4,6,10,16]"
      ],
      "metadata": {
        "id": "ek7UKBDGgHLR"
      },
      "execution_count": 64,
      "outputs": []
    },
    {
      "cell_type": "code",
      "source": [
        "list(filter(lambda x:x%2==0,l))"
      ],
      "metadata": {
        "colab": {
          "base_uri": "https://localhost:8080/"
        },
        "id": "VRQSKrKKgQ-6",
        "outputId": "6a29c5c9-468c-4ede-8a39-d4e81f585f0f"
      },
      "execution_count": 65,
      "outputs": [
        {
          "output_type": "execute_result",
          "data": {
            "text/plain": [
              "[2, 4, 6, 10, 16]"
            ]
          },
          "metadata": {},
          "execution_count": 65
        }
      ]
    },
    {
      "cell_type": "code",
      "source": [
        "#reduce\n",
        "from functools import reduce\n",
        "numbers = [1,2,3,9,100,150,500,750,1000]"
      ],
      "metadata": {
        "id": "S5-d_FatgbJb"
      },
      "execution_count": 68,
      "outputs": []
    },
    {
      "cell_type": "code",
      "source": [
        "reduce(lambda x,y:x if x>y else y,numbers)"
      ],
      "metadata": {
        "colab": {
          "base_uri": "https://localhost:8080/"
        },
        "id": "J76chMBqgnrX",
        "outputId": "052e0194-7d8a-4ab6-be1b-418bedd5e42f"
      },
      "execution_count": 69,
      "outputs": [
        {
          "output_type": "execute_result",
          "data": {
            "text/plain": [
              "1000"
            ]
          },
          "metadata": {},
          "execution_count": 69
        }
      ]
    },
    {
      "cell_type": "code",
      "source": [],
      "metadata": {
        "id": "8JZPxj30gvCD"
      },
      "execution_count": 70,
      "outputs": []
    },
    {
      "cell_type": "markdown",
      "source": [
        "11.Using pen & Paper write the internal mechanism for sum operation using  reduce function on this given list:[47,11,42,13];"
      ],
      "metadata": {
        "id": "Lne3wBJyizm3"
      }
    },
    {
      "cell_type": "markdown",
      "source": [
        "Ans.We will use the reduce() function with a lambda that performs addition (x + y).\n",
        "\n"
      ],
      "metadata": {
        "id": "rMhnr8a7izZk"
      }
    },
    {
      "cell_type": "code",
      "source": [
        "from functools import reduce\n",
        "lists=[47,11,42,13]"
      ],
      "metadata": {
        "id": "jj5e_Erjilms"
      },
      "execution_count": 85,
      "outputs": []
    },
    {
      "cell_type": "code",
      "source": [
        "reduce(lambda x,y:x+y,lists)#now first add two number 47+11=58,now remains (58,42,13), in second step adding two number 58+42=100,remaiining(100,13)and last step 100+13=113 this is our output of this list using the reduce function"
      ],
      "metadata": {
        "colab": {
          "base_uri": "https://localhost:8080/"
        },
        "id": "Nr6unXyZiu_y",
        "outputId": "61832600-7a12-4d51-e869-7326c673b92f"
      },
      "execution_count": 86,
      "outputs": [
        {
          "output_type": "execute_result",
          "data": {
            "text/plain": [
              "113"
            ]
          },
          "metadata": {},
          "execution_count": 86
        }
      ]
    },
    {
      "cell_type": "markdown",
      "source": [
        "sorry we are unable to understand how to attach the 11 question solve in paper so i try to descibe this question through the using the comments."
      ],
      "metadata": {
        "id": "ABMlcKpAllne"
      }
    },
    {
      "cell_type": "code",
      "source": [],
      "metadata": {
        "id": "3ZXBqT8pjnKe"
      },
      "execution_count": null,
      "outputs": []
    }
  ]
}