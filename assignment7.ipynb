{
  "nbformat": 4,
  "nbformat_minor": 0,
  "metadata": {
    "colab": {
      "provenance": []
    },
    "kernelspec": {
      "name": "python3",
      "display_name": "Python 3"
    },
    "language_info": {
      "name": "python"
    }
  },
  "cells": [
    {
      "cell_type": "markdown",
      "source": [
        "1.Explain the purpose and advantages of NumPy in scientific computing and data analysis. How does it enhance Python's capabilities for numerical operations\n",
        "\n",
        "\n"
      ],
      "metadata": {
        "id": "ELfpx0ZOoj4a"
      }
    },
    {
      "cell_type": "markdown",
      "source": [
        "Ans. NumPy has become necessary for scientific computing and data analysis and it is build by \"C\" language due to its powerful array structure, speed, mathematical,compatibility and manipulate data easiest ways with other scientific libraries, transforming Python into a high-performance language for numerical computation.Python by itself it works fast numerical operations on large datasets, primarily due to the nature of Python native data types and its interpreted nature. its providing fast execution and reducing code complecity.\n"
      ],
      "metadata": {
        "id": "h6g4A3GYojvz"
      }
    },
    {
      "cell_type": "markdown",
      "source": [
        "2.Compare and contrast np.mean() and np.average() functions in NumPy. When would you use one over the other?\n",
        "\n",
        "\n"
      ],
      "metadata": {
        "id": "Wpyce-UHqUNp"
      }
    },
    {
      "cell_type": "markdown",
      "source": [
        "Ans.The np.mean() and np.average() functions in NumPy both used to compute the average of an array, but they differ in functionality and use cases\n",
        "1. np.mean() is simpler and suitable for unweighted data.\n",
        "2. np.average() is more flexible, allowing both weighted and unweighted averages\n"
      ],
      "metadata": {
        "id": "bmhCY171qxSQ"
      }
    },
    {
      "cell_type": "code",
      "execution_count": null,
      "metadata": {
        "id": "HZX287nFn-bZ"
      },
      "outputs": [],
      "source": [
        "import numpy as np\n"
      ]
    },
    {
      "cell_type": "code",
      "source": [
        "data = np.array([1, 2, 3, 4, 5])\n",
        "weights = np.array([1, 2, 3, 4, 5])\n"
      ],
      "metadata": {
        "id": "yvsBrDlYrmOG"
      },
      "execution_count": null,
      "outputs": []
    },
    {
      "cell_type": "code",
      "source": [
        "s = np.mean(data)\n",
        "print(\"Mean:\", s)"
      ],
      "metadata": {
        "colab": {
          "base_uri": "https://localhost:8080/"
        },
        "id": "fUpGnqphroba",
        "outputId": "2a400ce7-70f9-4190-f69c-c88b8d40fe2a"
      },
      "execution_count": null,
      "outputs": [
        {
          "output_type": "stream",
          "name": "stdout",
          "text": [
            "Mean: 3.0\n"
          ]
        }
      ]
    },
    {
      "cell_type": "code",
      "source": [
        "h = np.average(data)\n",
        "print(\"Average (no weights):\", h)"
      ],
      "metadata": {
        "colab": {
          "base_uri": "https://localhost:8080/"
        },
        "id": "OO3n9-81r10y",
        "outputId": "b7206fe9-80e2-4c5c-bd29-eacd6dff9f30"
      },
      "execution_count": null,
      "outputs": [
        {
          "output_type": "stream",
          "name": "stdout",
          "text": [
            "Average (no weights): 3.0\n"
          ]
        }
      ]
    },
    {
      "cell_type": "code",
      "source": [
        "a= np.average(data, weights=weights)\n",
        "print(\"Weighted Average:\",a)\n"
      ],
      "metadata": {
        "colab": {
          "base_uri": "https://localhost:8080/"
        },
        "id": "MQ-FTSvrsP8o",
        "outputId": "9eaf92d3-a087-4b2a-bd31-1efe37bdca5d"
      },
      "execution_count": null,
      "outputs": [
        {
          "output_type": "stream",
          "name": "stdout",
          "text": [
            "Weighted Average: 3.6666666666666665\n"
          ]
        }
      ]
    },
    {
      "cell_type": "markdown",
      "source": [
        "3.Describe the methods for reversing a NumPy array along different axes. Provide examples for 1D and 2D\n",
        "arrays.\n"
      ],
      "metadata": {
        "id": "GjyXVLQks5T9"
      }
    },
    {
      "cell_type": "markdown",
      "source": [
        "Ans.In NumPy, you can reverse an array along different axes using slicing\n",
        "\n",
        "1d array-- Simply slice the array with [::-1] to reverse order of elements\n",
        "2d array -- Use slicing along specific axes to reverse rows or columns"
      ],
      "metadata": {
        "id": "G9DJ8xiAs5Jo"
      }
    },
    {
      "cell_type": "code",
      "source": [
        "array_1d = np.array([1, 2, 3, 4, 5])\n"
      ],
      "metadata": {
        "id": "NxkHVLtpsvHQ"
      },
      "execution_count": null,
      "outputs": []
    },
    {
      "cell_type": "code",
      "source": [
        "array_1d"
      ],
      "metadata": {
        "colab": {
          "base_uri": "https://localhost:8080/"
        },
        "id": "6D-_15UKtu0J",
        "outputId": "921e709d-6dea-4431-fa4b-43a953b01ec1"
      },
      "execution_count": null,
      "outputs": [
        {
          "output_type": "execute_result",
          "data": {
            "text/plain": [
              "array([1, 2, 3, 4, 5])"
            ]
          },
          "metadata": {},
          "execution_count": 15
        }
      ]
    },
    {
      "cell_type": "code",
      "source": [
        "rever_1d = array_1d[::-1]\n",
        "print(\"1D reversed:\", rever_1d)"
      ],
      "metadata": {
        "colab": {
          "base_uri": "https://localhost:8080/"
        },
        "id": "ry8ANaOCuCEJ",
        "outputId": "f67d559b-f80e-466f-bf44-56105b9cec5d"
      },
      "execution_count": null,
      "outputs": [
        {
          "output_type": "stream",
          "name": "stdout",
          "text": [
            "1D reversed: [5 4 3 2 1]\n"
          ]
        }
      ]
    },
    {
      "cell_type": "code",
      "source": [
        "array_2d = np.array([[1, 2, 3], [4, 5, 6], [7, 8, 9]])"
      ],
      "metadata": {
        "id": "jpT7EvDBuLWl"
      },
      "execution_count": null,
      "outputs": []
    },
    {
      "cell_type": "code",
      "source": [
        "array_2d"
      ],
      "metadata": {
        "colab": {
          "base_uri": "https://localhost:8080/"
        },
        "id": "rIg7JCs8uSU1",
        "outputId": "368bf2f9-8ff2-4282-c4b8-2907d7e0e10a"
      },
      "execution_count": null,
      "outputs": [
        {
          "output_type": "execute_result",
          "data": {
            "text/plain": [
              "array([[1, 2, 3],\n",
              "       [4, 5, 6],\n",
              "       [7, 8, 9]])"
            ]
          },
          "metadata": {},
          "execution_count": 18
        }
      ]
    },
    {
      "cell_type": "code",
      "source": [
        "reversed_rows = array_2d[::-1, :]\n",
        "print(\"2D Array with Rows Reversed:\\n\", reversed_rows)\n"
      ],
      "metadata": {
        "colab": {
          "base_uri": "https://localhost:8080/"
        },
        "id": "3x6aDAAUuVWp",
        "outputId": "c9ed9993-c8a6-453f-8b4c-206f7a1ccfb2"
      },
      "execution_count": null,
      "outputs": [
        {
          "output_type": "stream",
          "name": "stdout",
          "text": [
            "2D Array with Rows Reversed:\n",
            " [[7 8 9]\n",
            " [4 5 6]\n",
            " [1 2 3]]\n"
          ]
        }
      ]
    },
    {
      "cell_type": "code",
      "source": [
        "reversed_columns = array_2d[:, ::-1]\n",
        "print(\"2D Array with Columns Reversed:\\n\", reversed_columns)\n"
      ],
      "metadata": {
        "colab": {
          "base_uri": "https://localhost:8080/"
        },
        "id": "1lgcuSTpujHc",
        "outputId": "effd17b1-85d9-4e3b-a7d4-ef5afba39442"
      },
      "execution_count": null,
      "outputs": [
        {
          "output_type": "stream",
          "name": "stdout",
          "text": [
            "2D Array with Columns Reversed:\n",
            " [[3 2 1]\n",
            " [6 5 4]\n",
            " [9 8 7]]\n"
          ]
        }
      ]
    },
    {
      "cell_type": "markdown",
      "source": [
        "4. How can you determine the data type of elements in a NumPy array? Discuss the importance of data types in memory management and performance\n",
        "\n",
        "\n"
      ],
      "metadata": {
        "id": "OmOVaVjDvBAe"
      }
    },
    {
      "cell_type": "markdown",
      "source": [
        "Ans.we can use the .dtype attribute To determine the data type of elements in a NumPy array selecting the right data type in NumPy directly affects memory usage, processing speed, and numerical accuracy. Using .dtype to check and modify data types helps manage in scientific computing and data analysis."
      ],
      "metadata": {
        "id": "RXsvYPc9vA4H"
      }
    },
    {
      "cell_type": "code",
      "source": [
        "array = np.array([1, 2, 3])\n",
        "array.dtype"
      ],
      "metadata": {
        "colab": {
          "base_uri": "https://localhost:8080/"
        },
        "id": "YKpkVvAju3ug",
        "outputId": "a3e1680c-806a-49e3-c6b4-afd2223fdba2"
      },
      "execution_count": null,
      "outputs": [
        {
          "output_type": "execute_result",
          "data": {
            "text/plain": [
              "dtype('int64')"
            ]
          },
          "metadata": {},
          "execution_count": 26
        }
      ]
    },
    {
      "cell_type": "markdown",
      "source": [
        "5. Define ndarrays in NumPy and explain their key features. How do they differ from standard Python lists?\n",
        "\n"
      ],
      "metadata": {
        "id": "k3R9CVxdwliG"
      }
    },
    {
      "cell_type": "markdown",
      "source": [
        "Ans in python ndarray means n-dimensial, is the fundamental data structure used to store and manipulate numerical data it is flexible but slower for numerical operations.An ndarray can represent data of any dimension (1D, 2D, 3D, etc.),\n",
        "ndarray is homogenous in nature and python list hetrogenous in nature, in ndarrayBroad set of mathematical operations anfd in python list Limited requires libraries or custom functions"
      ],
      "metadata": {
        "id": "cYXu6Kuiwlbv"
      }
    },
    {
      "cell_type": "code",
      "source": [
        "array = np.array([1, 2, 3, 4])"
      ],
      "metadata": {
        "id": "p4lfirKBvbJ8"
      },
      "execution_count": null,
      "outputs": []
    },
    {
      "cell_type": "code",
      "source": [
        "print(array)\n",
        "print( array.dtype)"
      ],
      "metadata": {
        "colab": {
          "base_uri": "https://localhost:8080/"
        },
        "id": "pmHwN-P3yHpe",
        "outputId": "d15abb8d-c0d7-4d74-bc20-809ac761cf0c"
      },
      "execution_count": null,
      "outputs": [
        {
          "output_type": "stream",
          "name": "stdout",
          "text": [
            "[1 2 3 4]\n",
            "int64\n"
          ]
        }
      ]
    },
    {
      "cell_type": "code",
      "source": [
        "python_list = [1, 2, 3, 4]"
      ],
      "metadata": {
        "id": "H5un5r4XyMmx"
      },
      "execution_count": null,
      "outputs": []
    },
    {
      "cell_type": "code",
      "source": [
        "print(python_list)"
      ],
      "metadata": {
        "colab": {
          "base_uri": "https://localhost:8080/"
        },
        "id": "lVxcWauCyU8b",
        "outputId": "b9c64ee5-9726-4a7d-c9b6-0fdf61b1b1c2"
      },
      "execution_count": null,
      "outputs": [
        {
          "output_type": "stream",
          "name": "stdout",
          "text": [
            "[1, 2, 3, 4]\n"
          ]
        }
      ]
    },
    {
      "cell_type": "markdown",
      "source": [
        "6.Analyze the performance benefits of NumPy arrays over Python lists for large-scale numerical operations\n",
        "\n"
      ],
      "metadata": {
        "id": "Scqamh5eyoVl"
      }
    },
    {
      "cell_type": "markdown",
      "source": [
        "Ans.NumPy arrays offer significant performance advantages over Python lists, especially for large-scale numerical operations. This performance boost stems from several core features of ndarray in NumPy, including memory efficiency, optimized operations, and the ability to leverage low-level optimizations."
      ],
      "metadata": {
        "id": "ndzBaeEIyoNG"
      }
    },
    {
      "cell_type": "code",
      "source": [
        "size = 10\n",
        "list1 = list(range(size))\n",
        "list2 = list(range(size))"
      ],
      "metadata": {
        "id": "UR17nFsmyZVr"
      },
      "execution_count": null,
      "outputs": []
    },
    {
      "cell_type": "code",
      "source": [
        "list1\n",
        "list2"
      ],
      "metadata": {
        "colab": {
          "base_uri": "https://localhost:8080/"
        },
        "id": "Adx7dekdzB6E",
        "outputId": "dc917bbb-4fea-4184-a386-6567b283509b"
      },
      "execution_count": null,
      "outputs": [
        {
          "output_type": "execute_result",
          "data": {
            "text/plain": [
              "[0, 1, 2, 3, 4, 5, 6, 7, 8, 9]"
            ]
          },
          "metadata": {},
          "execution_count": 35
        }
      ]
    },
    {
      "cell_type": "code",
      "source": [
        "np_array1 = np.arange(size)\n",
        "np_array2 = np.arange(size)\n"
      ],
      "metadata": {
        "id": "Nff0w7tSzGzW"
      },
      "execution_count": null,
      "outputs": []
    },
    {
      "cell_type": "code",
      "source": [
        "np_array1\n",
        "np_array2"
      ],
      "metadata": {
        "colab": {
          "base_uri": "https://localhost:8080/"
        },
        "id": "Bb3wCHMBzUhw",
        "outputId": "c87333ad-72b9-4068-af6f-e30efd68afc9"
      },
      "execution_count": null,
      "outputs": [
        {
          "output_type": "execute_result",
          "data": {
            "text/plain": [
              "array([0, 1, 2, 3, 4, 5, 6, 7, 8, 9])"
            ]
          },
          "metadata": {},
          "execution_count": 37
        }
      ]
    },
    {
      "cell_type": "markdown",
      "source": [
        "7. Compare vstack() and hstack() functions in NumPy. Provide examples demonstrating their usage and\n",
        "output.\n",
        "\n"
      ],
      "metadata": {
        "id": "CR1JXbOlzpVd"
      }
    },
    {
      "cell_type": "markdown",
      "source": [
        "Ans.These functions are commonly used in data processing tasks where you need to combine data row-wise or column-wise.\n",
        "vstacks arrays vertically,Same number of columns,Increases row count,\n",
        "hstacks arrays horizontally\tSame number of rows\tIncreases column count\n"
      ],
      "metadata": {
        "id": "PAPpxZKOzpMt"
      }
    },
    {
      "cell_type": "code",
      "source": [
        "array1 = np.array([[1, 2], [3, 4]])\n",
        "array2 = np.array([[5, 6], [7, 8]])\n",
        "\n"
      ],
      "metadata": {
        "id": "PGFH1x6UzXd5"
      },
      "execution_count": null,
      "outputs": []
    },
    {
      "cell_type": "code",
      "source": [
        "result_vstack = np.vstack((array1, array2))\n",
        "print(\"Result of np.vstack:\\n\", result_vstack)\n"
      ],
      "metadata": {
        "colab": {
          "base_uri": "https://localhost:8080/"
        },
        "id": "oc6NTxl60Mu9",
        "outputId": "11253589-dd85-4cf4-e185-df186a693647"
      },
      "execution_count": null,
      "outputs": [
        {
          "output_type": "stream",
          "name": "stdout",
          "text": [
            "Result of np.vstack:\n",
            " [[1 2]\n",
            " [3 4]\n",
            " [5 6]\n",
            " [7 8]]\n"
          ]
        }
      ]
    },
    {
      "cell_type": "code",
      "source": [
        "result_hstack = np.hstack((array1, array2))\n",
        "print(\"Result of np.hstack:\\n\", result_hstack)"
      ],
      "metadata": {
        "colab": {
          "base_uri": "https://localhost:8080/"
        },
        "id": "FUYDvSvq0QK_",
        "outputId": "6572199f-a466-45de-c452-a604e593e85f"
      },
      "execution_count": null,
      "outputs": [
        {
          "output_type": "stream",
          "name": "stdout",
          "text": [
            "Result of np.hstack:\n",
            " [[1 2 5 6]\n",
            " [3 4 7 8]]\n"
          ]
        }
      ]
    },
    {
      "cell_type": "markdown",
      "source": [
        "8. Explain the differences between fliplr() and flipud() methods in NumPy, including their effects on various\n",
        "array dimensions.\n",
        "\n"
      ],
      "metadata": {
        "id": "Hg3h5eQK0j4t"
      }
    },
    {
      "cell_type": "markdown",
      "source": [
        "Ans.In NumPy, the fliplr() and flipud() methods are used to reverse arrays along specific axes, but they operate differently.\\\\\n",
        "np.flipud() flips arrays along the vertical axis, changing the order of rows from top to bottom.\n",
        "np.fliplr() flips arrays along the horizontal axis, changing the order of columns from left to right.\n"
      ],
      "metadata": {
        "id": "WVruoZXf0jnl"
      }
    },
    {
      "cell_type": "code",
      "source": [
        "array_2d = np.array([[1, 2, 3],\n",
        "                     [4, 5, 6],\n",
        "                     [7, 8, 9]])\n"
      ],
      "metadata": {
        "id": "aSNt4bHy0QIN"
      },
      "execution_count": null,
      "outputs": []
    },
    {
      "cell_type": "code",
      "source": [
        "result_fliplr = np.fliplr(array_2d)\n",
        "print( array_2d)\n",
        "print( result_fliplr)"
      ],
      "metadata": {
        "colab": {
          "base_uri": "https://localhost:8080/"
        },
        "id": "rc-0V8qW0QFV",
        "outputId": "66c75621-711f-4127-ca12-4ed9d58f3106"
      },
      "execution_count": null,
      "outputs": [
        {
          "output_type": "stream",
          "name": "stdout",
          "text": [
            "[[1 2 3]\n",
            " [4 5 6]\n",
            " [7 8 9]]\n",
            "[[3 2 1]\n",
            " [6 5 4]\n",
            " [9 8 7]]\n"
          ]
        }
      ]
    },
    {
      "cell_type": "code",
      "source": [
        "result_flipud = np.flipud(array_2d)\n",
        "print( array_2d)\n",
        "print( result_flipud)\n"
      ],
      "metadata": {
        "colab": {
          "base_uri": "https://localhost:8080/"
        },
        "id": "qCj3IW480P-V",
        "outputId": "01f46473-9793-467e-9841-9560cddc960b"
      },
      "execution_count": null,
      "outputs": [
        {
          "output_type": "stream",
          "name": "stdout",
          "text": [
            "[[1 2 3]\n",
            " [4 5 6]\n",
            " [7 8 9]]\n",
            "[[7 8 9]\n",
            " [4 5 6]\n",
            " [1 2 3]]\n"
          ]
        }
      ]
    },
    {
      "cell_type": "markdown",
      "source": [
        "9.Discuss the functionality of the array_split() method in NumPy. How does it handle uneven splits?"
      ],
      "metadata": {
        "id": "vAKdr_ff1Wf7"
      }
    },
    {
      "cell_type": "markdown",
      "source": [
        "Ans.array_split() is flexible, accommodating both even and uneven splits.\n",
        "For uneven splits, the extra elements are added to the first few sub-arraysarray_split() is particularly useful when the number of elements doesn’t evenly divide by the number of sections, unlike split(), which requires even splits and will raise an error if not divisible."
      ],
      "metadata": {
        "id": "lKqYI9Am1WbE"
      }
    },
    {
      "cell_type": "code",
      "source": [
        "array = np.array([1, 2, 3, 4, 5,])\n",
        "result = np.array_split(array, 3)\n",
        "print( result)\n"
      ],
      "metadata": {
        "colab": {
          "base_uri": "https://localhost:8080/"
        },
        "id": "1DOPhIg_16IX",
        "outputId": "ba8ca038-9316-467d-e203-43fd13427e43"
      },
      "execution_count": null,
      "outputs": [
        {
          "output_type": "stream",
          "name": "stdout",
          "text": [
            "[array([1, 2]), array([3, 4]), array([5])]\n"
          ]
        }
      ]
    },
    {
      "cell_type": "markdown",
      "source": [
        "10.Explain the concepts of vectorization and broadcasting in NumPy. How do they contribute to efficient array\n",
        "operations?"
      ],
      "metadata": {
        "id": "fMLIwt8v2YCt"
      }
    },
    {
      "cell_type": "markdown",
      "source": [
        "Ans.Vectorization eliminates loops and takes advantage of optimized low-level code, improving speed and readability,vectorization and broadcasting allow NumPy to handle large datasets and complex computations efficiently, making it a powerful tool for scientific computing and data analysis,Broadcasting enables operations on arrays of differing shapes, saving memory and enhancing flexibility in array manipulations.\n"
      ],
      "metadata": {
        "id": "3BASufmR2X6N"
      }
    },
    {
      "cell_type": "code",
      "source": [
        "array1 = np.array([1, 2, 3, 4])\n",
        "array2 = np.array([5, 6, 7, 8])\n",
        "\n"
      ],
      "metadata": {
        "id": "MROsB8Zf2lcF"
      },
      "execution_count": null,
      "outputs": []
    },
    {
      "cell_type": "code",
      "source": [
        "result = array1 + array2  #Vectorized addition\n",
        "print(result)"
      ],
      "metadata": {
        "colab": {
          "base_uri": "https://localhost:8080/"
        },
        "id": "7fuMCM7A2lZP",
        "outputId": "c514923b-bc69-465b-d17b-010803366239"
      },
      "execution_count": null,
      "outputs": [
        {
          "output_type": "stream",
          "name": "stdout",
          "text": [
            "[ 6  8 10 12]\n"
          ]
        }
      ]
    },
    {
      "cell_type": "code",
      "source": [
        "array = np.array([1, 2, 3])"
      ],
      "metadata": {
        "id": "52RY86Qp2zgh"
      },
      "execution_count": null,
      "outputs": []
    },
    {
      "cell_type": "code",
      "source": [
        "scalar = 1"
      ],
      "metadata": {
        "id": "8uB3kgap2zdd"
      },
      "execution_count": null,
      "outputs": []
    },
    {
      "cell_type": "code",
      "source": [
        "result = array + scalar\n",
        "print(result)\n"
      ],
      "metadata": {
        "colab": {
          "base_uri": "https://localhost:8080/"
        },
        "id": "5BZXXl1i2zau",
        "outputId": "0e0fac55-d912-4890-ddd8-2de3b66e8384"
      },
      "execution_count": null,
      "outputs": [
        {
          "output_type": "stream",
          "name": "stdout",
          "text": [
            "[2 3 4]\n"
          ]
        }
      ]
    },
    {
      "cell_type": "markdown",
      "source": [
        "11. Create a 3x3 NumPy array with random integers between 1 and 100. Then, interchange its rows and columns"
      ],
      "metadata": {
        "id": "k9RS8U2j5m6I"
      }
    },
    {
      "cell_type": "markdown",
      "source": [
        "Ans."
      ],
      "metadata": {
        "id": "ruVc_LYe5m2U"
      }
    },
    {
      "cell_type": "code",
      "source": [
        "n=np.random.randn(3,3)\n"
      ],
      "metadata": {
        "id": "VtDjuLkX6bNZ"
      },
      "execution_count": null,
      "outputs": []
    },
    {
      "cell_type": "code",
      "source": [
        "n"
      ],
      "metadata": {
        "colab": {
          "base_uri": "https://localhost:8080/"
        },
        "id": "m3ybYhv46g6z",
        "outputId": "39d40445-6268-47f5-b132-b035a7947a20"
      },
      "execution_count": null,
      "outputs": [
        {
          "output_type": "execute_result",
          "data": {
            "text/plain": [
              "array([[ 0.95094395, -0.36757011, -0.48256866],\n",
              "       [-2.57368907, -1.75031926, -1.02970294],\n",
              "       [-1.7240253 , -0.67772642,  0.03194867]])"
            ]
          },
          "metadata": {},
          "execution_count": 66
        }
      ]
    },
    {
      "cell_type": "code",
      "source": [
        "transposed_array = np.transpose(n)"
      ],
      "metadata": {
        "id": "u7OMFlK18fsp"
      },
      "execution_count": null,
      "outputs": []
    },
    {
      "cell_type": "code",
      "source": [
        "print( n)\n"
      ],
      "metadata": {
        "colab": {
          "base_uri": "https://localhost:8080/"
        },
        "id": "pf-WvVpf8fh8",
        "outputId": "fec33950-7198-48b8-da66-da428301a74b"
      },
      "execution_count": null,
      "outputs": [
        {
          "output_type": "stream",
          "name": "stdout",
          "text": [
            "[[ 0.95094395 -0.36757011 -0.48256866]\n",
            " [-2.57368907 -1.75031926 -1.02970294]\n",
            " [-1.7240253  -0.67772642  0.03194867]]\n"
          ]
        }
      ]
    },
    {
      "cell_type": "code",
      "source": [
        "print( transposed_array)\n"
      ],
      "metadata": {
        "colab": {
          "base_uri": "https://localhost:8080/"
        },
        "id": "j8_xEbtB8vWy",
        "outputId": "3f350fe8-282d-4406-f33d-c2467f6610aa"
      },
      "execution_count": null,
      "outputs": [
        {
          "output_type": "stream",
          "name": "stdout",
          "text": [
            "[[ 0.95094395 -2.57368907 -1.7240253 ]\n",
            " [-0.36757011 -1.75031926 -0.67772642]\n",
            " [-0.48256866 -1.02970294  0.03194867]]\n"
          ]
        }
      ]
    },
    {
      "cell_type": "markdown",
      "source": [
        "12. Generate a 1D NumPy array with 10 elements. Reshape it into a 2x5 array, then into a 5x2 array."
      ],
      "metadata": {
        "id": "7CYxWa9k89Fy"
      }
    },
    {
      "cell_type": "markdown",
      "source": [
        "Ans."
      ],
      "metadata": {
        "id": "Rskpzp0w889p"
      }
    },
    {
      "cell_type": "code",
      "source": [
        "one_d_array = np.arange(10)"
      ],
      "metadata": {
        "id": "tCPWYvCk88aJ"
      },
      "execution_count": null,
      "outputs": []
    },
    {
      "cell_type": "code",
      "source": [
        "one_d_array"
      ],
      "metadata": {
        "colab": {
          "base_uri": "https://localhost:8080/"
        },
        "id": "TBuFFKAv9wRi",
        "outputId": "7322ae61-c0ba-4add-8b8b-e98911952521"
      },
      "execution_count": null,
      "outputs": [
        {
          "output_type": "execute_result",
          "data": {
            "text/plain": [
              "array([0, 1, 2, 3, 4, 5, 6, 7, 8, 9])"
            ]
          },
          "metadata": {},
          "execution_count": 72
        }
      ]
    },
    {
      "cell_type": "code",
      "source": [
        "array_2x5 = one_d_array.reshape(2, 5)\n",
        "array_2x5"
      ],
      "metadata": {
        "colab": {
          "base_uri": "https://localhost:8080/"
        },
        "id": "W2Rq3_4C90JT",
        "outputId": "5db51b4b-bf36-4437-edb3-5eaeccd8d4ea"
      },
      "execution_count": null,
      "outputs": [
        {
          "output_type": "execute_result",
          "data": {
            "text/plain": [
              "array([[0, 1, 2, 3, 4],\n",
              "       [5, 6, 7, 8, 9]])"
            ]
          },
          "metadata": {},
          "execution_count": 76
        }
      ]
    },
    {
      "cell_type": "code",
      "source": [
        "array_5x2 = one_d_array.reshape(5, 2)\n",
        "array_5x2"
      ],
      "metadata": {
        "colab": {
          "base_uri": "https://localhost:8080/"
        },
        "id": "3HsVQ2Db90Gi",
        "outputId": "d33701d8-9f45-4c95-ce9a-0ac2cdd8fb39"
      },
      "execution_count": null,
      "outputs": [
        {
          "output_type": "execute_result",
          "data": {
            "text/plain": [
              "array([[0, 1],\n",
              "       [2, 3],\n",
              "       [4, 5],\n",
              "       [6, 7],\n",
              "       [8, 9]])"
            ]
          },
          "metadata": {},
          "execution_count": 77
        }
      ]
    },
    {
      "cell_type": "markdown",
      "source": [
        "13.Create a 4x4 NumPy array with random float values. Add a border of zeros around it, resulting in a 6x6 array"
      ],
      "metadata": {
        "id": "SsgXe0pS-S5z"
      }
    },
    {
      "cell_type": "markdown",
      "source": [
        "Ans."
      ],
      "metadata": {
        "id": "BHF-bb1O-Sv8"
      }
    },
    {
      "cell_type": "code",
      "source": [
        "random_float_array = np.random.rand(4, 4)\n",
        "\n",
        "print(random_float_array)\n"
      ],
      "metadata": {
        "id": "TrtbN9Rg88Ri",
        "colab": {
          "base_uri": "https://localhost:8080/"
        },
        "outputId": "1f8a9b3c-052f-47d1-b7a6-8b0e23fe075b"
      },
      "execution_count": null,
      "outputs": [
        {
          "output_type": "stream",
          "name": "stdout",
          "text": [
            "[[0.56415129 0.52241106 0.44271919 0.67105066]\n",
            " [0.90667813 0.67331646 0.08057923 0.92030191]\n",
            " [0.24718291 0.6574386  0.0595778  0.57994216]\n",
            " [0.77928317 0.41320114 0.18466468 0.17392744]]\n"
          ]
        }
      ]
    },
    {
      "cell_type": "code",
      "source": [
        "bordered_array = np.pad(random_float_array, pad_width=1, mode='constant', constant_values=0)\n",
        "\n"
      ],
      "metadata": {
        "id": "7d5_pa8m_1fY"
      },
      "execution_count": null,
      "outputs": []
    },
    {
      "cell_type": "code",
      "source": [
        "print(\"Original 4x4 Array:\")\n",
        "print(random_float_array)\n",
        "\n"
      ],
      "metadata": {
        "colab": {
          "base_uri": "https://localhost:8080/"
        },
        "id": "EuUEPbPl_1VQ",
        "outputId": "4f06bd15-a859-49dc-a048-e60bbd9f6deb"
      },
      "execution_count": null,
      "outputs": [
        {
          "output_type": "stream",
          "name": "stdout",
          "text": [
            "Original 4x4 Array:\n",
            "[[0.56415129 0.52241106 0.44271919 0.67105066]\n",
            " [0.90667813 0.67331646 0.08057923 0.92030191]\n",
            " [0.24718291 0.6574386  0.0595778  0.57994216]\n",
            " [0.77928317 0.41320114 0.18466468 0.17392744]]\n"
          ]
        }
      ]
    },
    {
      "cell_type": "code",
      "source": [
        "print(\"\\n6x6 Array with Border of Zeros:\")\n",
        "print(bordered_array)"
      ],
      "metadata": {
        "colab": {
          "base_uri": "https://localhost:8080/"
        },
        "id": "xZvNOaTS_9aK",
        "outputId": "f8a48f0b-7e95-4e30-e158-2d88377a37b1"
      },
      "execution_count": null,
      "outputs": [
        {
          "output_type": "stream",
          "name": "stdout",
          "text": [
            "\n",
            "6x6 Array with Border of Zeros:\n",
            "[[0.         0.         0.         0.         0.         0.        ]\n",
            " [0.         0.56415129 0.52241106 0.44271919 0.67105066 0.        ]\n",
            " [0.         0.90667813 0.67331646 0.08057923 0.92030191 0.        ]\n",
            " [0.         0.24718291 0.6574386  0.0595778  0.57994216 0.        ]\n",
            " [0.         0.77928317 0.41320114 0.18466468 0.17392744 0.        ]\n",
            " [0.         0.         0.         0.         0.         0.        ]]\n"
          ]
        }
      ]
    },
    {
      "cell_type": "markdown",
      "source": [
        "14.Using NumPy, create an array of integers from 10 to 60 with a step of 5\n",
        "\n"
      ],
      "metadata": {
        "id": "lYso-NxWAL2x"
      }
    },
    {
      "cell_type": "markdown",
      "source": [
        "Ans."
      ],
      "metadata": {
        "id": "AQLQQCl2ALgp"
      }
    },
    {
      "cell_type": "code",
      "source": [
        "int_array = np.arange(10, 60, 5)\n"
      ],
      "metadata": {
        "id": "ZZjP4wBj_9TY"
      },
      "execution_count": null,
      "outputs": []
    },
    {
      "cell_type": "code",
      "source": [
        "int_array"
      ],
      "metadata": {
        "colab": {
          "base_uri": "https://localhost:8080/"
        },
        "id": "Hc_Jk4I3AiOY",
        "outputId": "5aa3f336-aa18-475f-a87c-89a53dba8a29"
      },
      "execution_count": null,
      "outputs": [
        {
          "output_type": "execute_result",
          "data": {
            "text/plain": [
              "array([10, 15, 20, 25, 30, 35, 40, 45, 50, 55])"
            ]
          },
          "metadata": {},
          "execution_count": 88
        }
      ]
    },
    {
      "cell_type": "markdown",
      "source": [
        "15. Create a NumPy array of strings ['python', 'numpy', 'pandas']. Apply different case transformations\n",
        "(uppercase, lowercase, title case, etc.) to each element"
      ],
      "metadata": {
        "id": "lbVMn_HaArIR"
      }
    },
    {
      "cell_type": "markdown",
      "source": [
        "Ans."
      ],
      "metadata": {
        "id": "0erweShQAqqA"
      }
    },
    {
      "cell_type": "code",
      "source": [
        "str_array = np.array(['python', 'numpy', 'pandas'])"
      ],
      "metadata": {
        "id": "9Gkc6X5HAiAp"
      },
      "execution_count": null,
      "outputs": []
    },
    {
      "cell_type": "code",
      "source": [
        "print(str_array)"
      ],
      "metadata": {
        "colab": {
          "base_uri": "https://localhost:8080/"
        },
        "id": "EqA_cvB1BA8A",
        "outputId": "b66a0ef7-c715-40bd-c626-bccc189dd4ef"
      },
      "execution_count": null,
      "outputs": [
        {
          "output_type": "stream",
          "name": "stdout",
          "text": [
            "['python' 'numpy' 'pandas']\n"
          ]
        }
      ]
    },
    {
      "cell_type": "code",
      "source": [
        "upper_case = np.char.upper(str_array)\n",
        "upper_case"
      ],
      "metadata": {
        "colab": {
          "base_uri": "https://localhost:8080/"
        },
        "id": "cybVED9NBAfS",
        "outputId": "26ecb6d1-ec91-4823-d58e-eae365bc423a"
      },
      "execution_count": null,
      "outputs": [
        {
          "output_type": "execute_result",
          "data": {
            "text/plain": [
              "array(['PYTHON', 'NUMPY', 'PANDAS'], dtype='<U6')"
            ]
          },
          "metadata": {},
          "execution_count": 94
        }
      ]
    },
    {
      "cell_type": "code",
      "source": [
        "lower_case = np.char.lower(str_array)\n",
        "lower_case"
      ],
      "metadata": {
        "colab": {
          "base_uri": "https://localhost:8080/"
        },
        "id": "GBLw7OIHBpgg",
        "outputId": "28269813-afa5-4847-d826-4ff1fcd0cf5d"
      },
      "execution_count": null,
      "outputs": [
        {
          "output_type": "execute_result",
          "data": {
            "text/plain": [
              "array(['python', 'numpy', 'pandas'], dtype='<U6')"
            ]
          },
          "metadata": {},
          "execution_count": 96
        }
      ]
    },
    {
      "cell_type": "code",
      "source": [
        "title_case = np.char.title(str_array)\n",
        "title_case"
      ],
      "metadata": {
        "colab": {
          "base_uri": "https://localhost:8080/"
        },
        "id": "-qxFP1wpBpWq",
        "outputId": "417f83d2-5a56-489b-bd44-97b2a38ef4fc"
      },
      "execution_count": null,
      "outputs": [
        {
          "output_type": "execute_result",
          "data": {
            "text/plain": [
              "array(['Python', 'Numpy', 'Pandas'], dtype='<U6')"
            ]
          },
          "metadata": {},
          "execution_count": 97
        }
      ]
    },
    {
      "cell_type": "code",
      "source": [
        "capitalize_case = np.char.capitalize(str_array)\n",
        "capitalize_case"
      ],
      "metadata": {
        "colab": {
          "base_uri": "https://localhost:8080/"
        },
        "id": "Q1WlakcCBpPW",
        "outputId": "a9017010-5f71-45da-9014-cd9122ec8910"
      },
      "execution_count": null,
      "outputs": [
        {
          "output_type": "execute_result",
          "data": {
            "text/plain": [
              "array(['Python', 'Numpy', 'Pandas'], dtype='<U6')"
            ]
          },
          "metadata": {},
          "execution_count": 98
        }
      ]
    },
    {
      "cell_type": "markdown",
      "source": [
        "16. Generate a NumPy array of words. Insert a space between each character of every word in the array."
      ],
      "metadata": {
        "id": "3IxMTXKMB_3j"
      }
    },
    {
      "cell_type": "markdown",
      "source": [
        "Ans."
      ],
      "metadata": {
        "id": "1Xq4H7GpB_d4"
      }
    },
    {
      "cell_type": "code",
      "source": [
        "words_array = np.array(['python', 'function', 'ayush', 'pwkills', 'life'])"
      ],
      "metadata": {
        "id": "zpT3JKlMBpMH"
      },
      "execution_count": null,
      "outputs": []
    },
    {
      "cell_type": "code",
      "source": [
        "words_array"
      ],
      "metadata": {
        "colab": {
          "base_uri": "https://localhost:8080/"
        },
        "id": "qVNIXQEIBpIg",
        "outputId": "5828cafa-8a9d-4bd3-9e28-6c0747aabd00"
      },
      "execution_count": null,
      "outputs": [
        {
          "output_type": "execute_result",
          "data": {
            "text/plain": [
              "array(['python', 'function', 'ayush', 'pwkills', 'life'], dtype='<U8')"
            ]
          },
          "metadata": {},
          "execution_count": 104
        }
      ]
    },
    {
      "cell_type": "code",
      "source": [
        "spaced_words_array = np.char.join(' ', words_array)"
      ],
      "metadata": {
        "id": "zlO_pKptCiBL"
      },
      "execution_count": null,
      "outputs": []
    },
    {
      "cell_type": "code",
      "source": [
        "spaced_words_array"
      ],
      "metadata": {
        "colab": {
          "base_uri": "https://localhost:8080/"
        },
        "id": "FStUVp4ACh6I",
        "outputId": "e79ca6c0-05f2-48de-ece6-990f991026be"
      },
      "execution_count": null,
      "outputs": [
        {
          "output_type": "execute_result",
          "data": {
            "text/plain": [
              "array(['p y t h o n', 'f u n c t i o n', 'a y u s h', 'p w k i l l s',\n",
              "       'l i f e'], dtype='<U15')"
            ]
          },
          "metadata": {},
          "execution_count": 106
        }
      ]
    },
    {
      "cell_type": "markdown",
      "source": [
        "17. Create two 2D NumPy arrays and perform element-wise addition, subtraction, multiplication, and division.#"
      ],
      "metadata": {
        "id": "SVlWfu-1C8Jn"
      }
    },
    {
      "cell_type": "markdown",
      "source": [
        "Ans."
      ],
      "metadata": {
        "id": "cLSctCVBC76Q"
      }
    },
    {
      "cell_type": "code",
      "source": [
        "array1 = np.array([[8, 7, 3],\n",
        "                   [1, 5, 2],\n",
        "                   [5, 4, 3]])\n"
      ],
      "metadata": {
        "id": "gLA2L44BDBEf"
      },
      "execution_count": null,
      "outputs": []
    },
    {
      "cell_type": "code",
      "source": [
        "array2 = np.array([[6, 5, 7],\n",
        "                   [2, 8, 3],\n",
        "                   [9, 1, 2]])"
      ],
      "metadata": {
        "id": "FSKpXI7SDA51"
      },
      "execution_count": null,
      "outputs": []
    },
    {
      "cell_type": "code",
      "source": [
        "array1"
      ],
      "metadata": {
        "colab": {
          "base_uri": "https://localhost:8080/"
        },
        "id": "cLtWJZd8Db3n",
        "outputId": "d5ca69ea-65e1-4cb6-ba4f-f40f41a1d573"
      },
      "execution_count": null,
      "outputs": [
        {
          "output_type": "execute_result",
          "data": {
            "text/plain": [
              "array([[8, 7, 3],\n",
              "       [1, 5, 2],\n",
              "       [5, 4, 3]])"
            ]
          },
          "metadata": {},
          "execution_count": 111
        }
      ]
    },
    {
      "cell_type": "code",
      "source": [
        "array2"
      ],
      "metadata": {
        "colab": {
          "base_uri": "https://localhost:8080/"
        },
        "id": "qpM-IZPsDbtg",
        "outputId": "dcb6b3c2-78ad-4611-9954-3569413e7bfa"
      },
      "execution_count": null,
      "outputs": [
        {
          "output_type": "execute_result",
          "data": {
            "text/plain": [
              "array([[6, 5, 7],\n",
              "       [2, 8, 3],\n",
              "       [9, 1, 2]])"
            ]
          },
          "metadata": {},
          "execution_count": 112
        }
      ]
    },
    {
      "cell_type": "code",
      "source": [
        "array1+array2"
      ],
      "metadata": {
        "colab": {
          "base_uri": "https://localhost:8080/"
        },
        "id": "934U6AjNDlvQ",
        "outputId": "ec2371cc-a749-4794-9ac3-f1c307fb5f0d"
      },
      "execution_count": null,
      "outputs": [
        {
          "output_type": "execute_result",
          "data": {
            "text/plain": [
              "array([[14, 12, 10],\n",
              "       [ 3, 13,  5],\n",
              "       [14,  5,  5]])"
            ]
          },
          "metadata": {},
          "execution_count": 113
        }
      ]
    },
    {
      "cell_type": "code",
      "source": [
        "array1-array2\n"
      ],
      "metadata": {
        "colab": {
          "base_uri": "https://localhost:8080/"
        },
        "id": "UAJeqvihDlsW",
        "outputId": "7a8df65a-c5d4-4ae9-a149-54437c98448c"
      },
      "execution_count": null,
      "outputs": [
        {
          "output_type": "execute_result",
          "data": {
            "text/plain": [
              "array([[ 2,  2, -4],\n",
              "       [-1, -3, -1],\n",
              "       [-4,  3,  1]])"
            ]
          },
          "metadata": {},
          "execution_count": 115
        }
      ]
    },
    {
      "cell_type": "code",
      "source": [
        "array1*array2"
      ],
      "metadata": {
        "colab": {
          "base_uri": "https://localhost:8080/"
        },
        "id": "3o0NehiDDloQ",
        "outputId": "87c05597-ee52-41a5-a957-1d9a253e7468"
      },
      "execution_count": null,
      "outputs": [
        {
          "output_type": "execute_result",
          "data": {
            "text/plain": [
              "array([[48, 35, 21],\n",
              "       [ 2, 40,  6],\n",
              "       [45,  4,  6]])"
            ]
          },
          "metadata": {},
          "execution_count": 116
        }
      ]
    },
    {
      "cell_type": "code",
      "source": [
        "array1/array2"
      ],
      "metadata": {
        "colab": {
          "base_uri": "https://localhost:8080/"
        },
        "id": "-RFPgVyGD5Bh",
        "outputId": "91347eff-f0ec-480a-eb67-415c6ce06e3b"
      },
      "execution_count": null,
      "outputs": [
        {
          "output_type": "execute_result",
          "data": {
            "text/plain": [
              "array([[1.33333333, 1.4       , 0.42857143],\n",
              "       [0.5       , 0.625     , 0.66666667],\n",
              "       [0.55555556, 4.        , 1.5       ]])"
            ]
          },
          "metadata": {},
          "execution_count": 117
        }
      ]
    },
    {
      "cell_type": "markdown",
      "source": [
        "18. Use NumPy to create a 5x5 identity matrix, then extract its diagonal elements."
      ],
      "metadata": {
        "id": "RzZb8g0rEH3w"
      }
    },
    {
      "cell_type": "markdown",
      "source": [
        "Ans."
      ],
      "metadata": {
        "id": "HylyqtprEHtk"
      }
    },
    {
      "cell_type": "code",
      "source": [
        "identity_matrix = np.eye(5)\n",
        "identity_matrix"
      ],
      "metadata": {
        "colab": {
          "base_uri": "https://localhost:8080/"
        },
        "id": "4AnyO4bMEOV0",
        "outputId": "9f30f6eb-ad54-46dc-b4e8-4792a918d691"
      },
      "execution_count": null,
      "outputs": [
        {
          "output_type": "execute_result",
          "data": {
            "text/plain": [
              "array([[1., 0., 0., 0., 0.],\n",
              "       [0., 1., 0., 0., 0.],\n",
              "       [0., 0., 1., 0., 0.],\n",
              "       [0., 0., 0., 1., 0.],\n",
              "       [0., 0., 0., 0., 1.]])"
            ]
          },
          "metadata": {},
          "execution_count": 119
        }
      ]
    },
    {
      "cell_type": "code",
      "source": [
        "diagonal_elements = np.diag(identity_matrix)\n",
        "\n",
        "diagonal_elements"
      ],
      "metadata": {
        "colab": {
          "base_uri": "https://localhost:8080/"
        },
        "id": "0rrV3m7WEOSz",
        "outputId": "5ae9deb6-5067-4480-f3dd-8ba9050ee869"
      },
      "execution_count": null,
      "outputs": [
        {
          "output_type": "execute_result",
          "data": {
            "text/plain": [
              "array([1., 1., 1., 1., 1.])"
            ]
          },
          "metadata": {},
          "execution_count": 120
        }
      ]
    },
    {
      "cell_type": "markdown",
      "source": [
        "19. Generate a NumPy array of 100 random integers between 0 and 1000. Find and display all prime numbers in\n",
        "this array"
      ],
      "metadata": {
        "id": "s32pGeX5E1ZH"
      }
    },
    {
      "cell_type": "markdown",
      "source": [
        "Ans."
      ],
      "metadata": {
        "id": "AwmIFvWBE1Kn"
      }
    },
    {
      "cell_type": "code",
      "source": [
        "random_integers = np.random.randint(0, 1001, size=100)"
      ],
      "metadata": {
        "id": "bQRm05gIEOP3"
      },
      "execution_count": null,
      "outputs": []
    },
    {
      "cell_type": "code",
      "source": [
        "random_integers"
      ],
      "metadata": {
        "colab": {
          "base_uri": "https://localhost:8080/"
        },
        "id": "ef3yhKdvEOMw",
        "outputId": "6b24fd43-3ae7-4455-bdef-96797c2d7f09"
      },
      "execution_count": null,
      "outputs": [
        {
          "output_type": "execute_result",
          "data": {
            "text/plain": [
              "array([ 91, 767, 743, 261, 969, 849, 563, 327, 176, 270, 771, 893, 930,\n",
              "       286, 294,  51, 383, 103, 877, 602, 821, 406, 104, 203, 304, 679,\n",
              "       957, 868, 194, 650, 926, 642, 617, 273, 416, 395, 367, 390, 169,\n",
              "       258, 690, 142, 954, 142, 494, 399, 305, 301, 526, 669, 411, 696,\n",
              "       462, 485,  23, 855, 589, 745, 639, 873, 260, 398, 732, 302, 347,\n",
              "       660, 290, 600, 196, 535, 802, 288, 861, 628, 137, 514, 743, 523,\n",
              "       119, 300, 548, 261, 403, 740, 551, 728,  36, 379, 262,   5, 688,\n",
              "        16,  42, 649, 146, 661, 558, 247, 272, 680])"
            ]
          },
          "metadata": {},
          "execution_count": 123
        }
      ]
    },
    {
      "cell_type": "code",
      "source": [
        "from sympy import isprime\n",
        "prime_num = [num for num in random_integers if isprime(num)]"
      ],
      "metadata": {
        "id": "Ie1iCsU3EN-W"
      },
      "execution_count": null,
      "outputs": []
    },
    {
      "cell_type": "code",
      "source": [
        "prime_num"
      ],
      "metadata": {
        "colab": {
          "base_uri": "https://localhost:8080/"
        },
        "id": "8ly_jpy3EN2v",
        "outputId": "07d23cf7-2d9f-4d2f-d6f0-1539d2aacfbe"
      },
      "execution_count": null,
      "outputs": [
        {
          "output_type": "execute_result",
          "data": {
            "text/plain": [
              "[743, 563, 383, 103, 877, 821, 617, 367, 23, 347, 137, 743, 523, 379, 5, 661]"
            ]
          },
          "metadata": {},
          "execution_count": 131
        }
      ]
    },
    {
      "cell_type": "code",
      "source": [
        "random_integers"
      ],
      "metadata": {
        "colab": {
          "base_uri": "https://localhost:8080/"
        },
        "id": "RXQWg0-fFzE5",
        "outputId": "817d773b-215f-4d64-bc84-d8d89bcb55ee"
      },
      "execution_count": null,
      "outputs": [
        {
          "output_type": "execute_result",
          "data": {
            "text/plain": [
              "array([ 91, 767, 743, 261, 969, 849, 563, 327, 176, 270, 771, 893, 930,\n",
              "       286, 294,  51, 383, 103, 877, 602, 821, 406, 104, 203, 304, 679,\n",
              "       957, 868, 194, 650, 926, 642, 617, 273, 416, 395, 367, 390, 169,\n",
              "       258, 690, 142, 954, 142, 494, 399, 305, 301, 526, 669, 411, 696,\n",
              "       462, 485,  23, 855, 589, 745, 639, 873, 260, 398, 732, 302, 347,\n",
              "       660, 290, 600, 196, 535, 802, 288, 861, 628, 137, 514, 743, 523,\n",
              "       119, 300, 548, 261, 403, 740, 551, 728,  36, 379, 262,   5, 688,\n",
              "        16,  42, 649, 146, 661, 558, 247, 272, 680])"
            ]
          },
          "metadata": {},
          "execution_count": 129
        }
      ]
    },
    {
      "cell_type": "markdown",
      "source": [
        "20.Create a NumPy array representing daily temperatures for a month. Calculate and display the weekly\n",
        "averages."
      ],
      "metadata": {
        "id": "LHf7m8DGF_an"
      }
    },
    {
      "cell_type": "markdown",
      "source": [
        "Ans."
      ],
      "metadata": {
        "id": "BM2IcRoCF_F3"
      }
    },
    {
      "cell_type": "code",
      "source": [
        "daily_temperatures = np.random.uniform(5, 15, size=20)\n",
        "\n"
      ],
      "metadata": {
        "id": "swc7q1D2GSfH"
      },
      "execution_count": null,
      "outputs": []
    },
    {
      "cell_type": "code",
      "source": [
        "daily_temperatures"
      ],
      "metadata": {
        "colab": {
          "base_uri": "https://localhost:8080/"
        },
        "id": "VcQc5arhGTHD",
        "outputId": "c680a75b-ff06-4652-a5dd-7c677a0c21dc"
      },
      "execution_count": null,
      "outputs": [
        {
          "output_type": "execute_result",
          "data": {
            "text/plain": [
              "array([14.93144237,  8.68525664, 12.3973999 , 14.27328218,  6.62028869,\n",
              "        8.59258764,  6.75287622, 14.07147904,  8.22880551,  5.9217833 ,\n",
              "        8.31771238,  6.60410059,  8.41830057, 13.20333048,  5.4413401 ,\n",
              "        6.12829515,  7.5456439 , 12.42788712,  9.73867492, 14.1096213 ])"
            ]
          },
          "metadata": {},
          "execution_count": 135
        }
      ]
    },
    {
      "cell_type": "code",
      "source": [
        "weekly_averages = np.mean(daily_temperatures[:20].reshape(-1, 5), axis=1)"
      ],
      "metadata": {
        "id": "V8iEvmyJGS-P"
      },
      "execution_count": null,
      "outputs": []
    },
    {
      "cell_type": "code",
      "source": [
        "weekly_averages"
      ],
      "metadata": {
        "colab": {
          "base_uri": "https://localhost:8080/"
        },
        "id": "smylJqBPG5ve",
        "outputId": "ed112555-f251-4eff-eef8-b864807667d5"
      },
      "execution_count": null,
      "outputs": [
        {
          "output_type": "execute_result",
          "data": {
            "text/plain": [
              "array([11.38153396,  8.71350634,  8.39695682,  9.99002448])"
            ]
          },
          "metadata": {},
          "execution_count": 138
        }
      ]
    },
    {
      "cell_type": "code",
      "source": [
        "daily_temperatures"
      ],
      "metadata": {
        "colab": {
          "base_uri": "https://localhost:8080/"
        },
        "id": "Jxb6nhM9G5oP",
        "outputId": "71fbcb49-2a95-4056-a2c7-182c55b0b588"
      },
      "execution_count": null,
      "outputs": [
        {
          "output_type": "execute_result",
          "data": {
            "text/plain": [
              "array([14.93144237,  8.68525664, 12.3973999 , 14.27328218,  6.62028869,\n",
              "        8.59258764,  6.75287622, 14.07147904,  8.22880551,  5.9217833 ,\n",
              "        8.31771238,  6.60410059,  8.41830057, 13.20333048,  5.4413401 ,\n",
              "        6.12829515,  7.5456439 , 12.42788712,  9.73867492, 14.1096213 ])"
            ]
          },
          "metadata": {},
          "execution_count": 139
        }
      ]
    },
    {
      "cell_type": "markdown",
      "source": [],
      "metadata": {
        "id": "_ftu9KMtztYM"
      }
    }
  ]
}