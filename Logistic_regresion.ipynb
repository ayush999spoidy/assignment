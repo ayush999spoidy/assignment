{
  "nbformat": 4,
  "nbformat_minor": 0,
  "metadata": {
    "colab": {
      "provenance": []
    },
    "kernelspec": {
      "name": "python3",
      "display_name": "Python 3"
    },
    "language_info": {
      "name": "python"
    }
  },
  "cells": [
    {
      "cell_type": "markdown",
      "source": [
        "1.What is Logistic Regression, and how does it differ from Linear Regression."
      ],
      "metadata": {
        "id": "T0uXPEhbtauR"
      }
    },
    {
      "cell_type": "markdown",
      "source": [
        "Ans.Linear Regression is used to predict a continuous value, like predicting the price of a house based on its size and location. It assumes a linear relationship between the independent and dependent variables.\n",
        "Logistic Regression is used to predict a categorical value, like predicting whether an email is spam or not. It models the probability of an outcome and uses a logistic function to create an S-shaped curve, reflecting the non-linear relationship."
      ],
      "metadata": {
        "id": "WcAi9hrntaVg"
      }
    },
    {
      "cell_type": "markdown",
      "source": [
        "2.What is the mathematical equation of Logistic Regression."
      ],
      "metadata": {
        "id": "zH6QEqSpt6qG"
      }
    },
    {
      "cell_type": "markdown",
      "source": [
        "Ans.p = 1 / (1 + e^(-z))\n",
        "\n",
        "\n",
        "z = b0 + b1*x1 + b2*x2 + ... + bn*xn"
      ],
      "metadata": {
        "id": "9wjW8eKtuCPn"
      }
    },
    {
      "cell_type": "markdown",
      "source": [
        "3.Why do we use the Sigmoid function in Logistic Regression."
      ],
      "metadata": {
        "id": "YQx6iCNMuc80"
      }
    },
    {
      "cell_type": "markdown",
      "source": [
        "Ans.The Sigmoid function plays a crucial role in Logistic Regression by:\n",
        "\n",
        "Mapping the linear combination of input variables to a probability between 0 and 1.\n",
        "Introducing non-linearity to capture complex relationships.\n",
        "Providing a differentiable function for optimization during training.\n",
        "Offering interpretable outputs as probabilities."
      ],
      "metadata": {
        "id": "OQ_MxBvludsf"
      }
    },
    {
      "cell_type": "markdown",
      "source": [
        "4.What is the cost function of Logistic Regression."
      ],
      "metadata": {
        "id": "ZGF4jztyu26g"
      }
    },
    {
      "cell_type": "markdown",
      "source": [
        "Ans.The Log Loss function measures how well the Logistic Regression model is predicting the probabilities of the outcomes. The goal is to minimize this loss function during training to find the best model parameters that produce accurate predictions."
      ],
      "metadata": {
        "id": "fJdVIYWtu3or"
      }
    },
    {
      "cell_type": "markdown",
      "source": [
        "5.What is Regularization in Logistic Regression? Why is it needed."
      ],
      "metadata": {
        "id": "YrEUFXWqvUpM"
      }
    },
    {
      "cell_type": "markdown",
      "source": [
        "Ans.Regularization in Logistic Regression is a crucial technique that helps prevent overfitting, address multicollinearity, and improve the model's overall performance. It achieves this by adding a penalty term to the cost function, which constrains the complexity of the model and makes it more generalizable to new data."
      ],
      "metadata": {
        "id": "h9isnBBEvWhC"
      }
    },
    {
      "cell_type": "markdown",
      "source": [
        "6.Explain the difference between Lasso, Ridge, and Elastic Net regression."
      ],
      "metadata": {
        "id": "06kW1HE0vqit"
      }
    },
    {
      "cell_type": "markdown",
      "source": [
        "Ans.If you suspect many features are irrelevant, Lasso might be preferred for its feature selection ability.\n",
        "If multicollinearity is a concern and you want to keep all features, Ridge is a better choice.\n",
        "Elastic Net offers a balance and is often a good starting point, especially when dealing with complex datasets."
      ],
      "metadata": {
        "id": "Etb8VDffvrD4"
      }
    },
    {
      "cell_type": "markdown",
      "source": [
        "7.When should we use Elastic Net instead of Lasso or Ridge."
      ],
      "metadata": {
        "id": "3ZoGuiH7wJOm"
      }
    },
    {
      "cell_type": "markdown",
      "source": [
        "Ans.Consider using Elastic Net instead of Lasso or Ridge when:\n",
        "\n",
        "You have many correlated features and some irrelevant features.\n",
        "The number of features is greater than the number of observations.\n",
        "You want a more robust and stable model.\n",
        "You're looking for a general-purpose regularization technique.\n",
        "However, there are still cases where Lasso or Ridge might be preferred:\n",
        "\n",
        "Lasso: When you need strong feature selection and interpretability, and multicollinearity is not a major concern.\n",
        "Ridge: When you want to keep all features and multicollinearity is a primary concern."
      ],
      "metadata": {
        "id": "tmkxpc2RwJvA"
      }
    },
    {
      "cell_type": "markdown",
      "source": [
        "8.What is the impact of the regularization parameter (λ) in Logistic Regression."
      ],
      "metadata": {
        "id": "qcQyc6wZxK_n"
      }
    },
    {
      "cell_type": "markdown",
      "source": [
        "Ans.The regularization parameter (λ) acts like a tuning knob that controls the complexity of the Logistic Regression model. A higher value of λ leads to a simpler model with less overfitting, while a lower value allows the model to fit the training data more closely but with a higher risk of overfitting. The optimal value of λ is usually found through experimentation and model evaluation."
      ],
      "metadata": {
        "id": "HsOQ8QM_xM8z"
      }
    },
    {
      "cell_type": "markdown",
      "source": [
        "9.What are the key assumptions of Logistic Regression"
      ],
      "metadata": {
        "id": "f2NquWUGpWgX"
      }
    },
    {
      "cell_type": "markdown",
      "source": [
        "Ans.A linear relationship (on a specific scale) between predictors and outcome\n",
        "Independent data points\n",
        "Independent predictors\n",
        "No extreme outliers\n",
        "Enough data for a good analysis\n",
        "\n",
        "\n",
        "These assumptions are like the ground rules for Logistic Regression. If they're violated, the model might not be accurate, and the conclusions drawn might be wrong. They ensure that the model is built on solid foundations and can provide reliable insights."
      ],
      "metadata": {
        "id": "eWrlwtxUpWQj"
      }
    },
    {
      "cell_type": "markdown",
      "source": [
        "10.What are some alternatives to Logistic Regression for classification tasks"
      ],
      "metadata": {
        "id": "tH1wLUybp_2R"
      }
    },
    {
      "cell_type": "markdown",
      "source": [
        "Ans.Logistic Regression: Draws a line to separate the objects.\n",
        "Decision Trees: Asks a series of yes/no questions to decide which box an object belongs to. Like a flowchart.\n",
        "Support Vector Machines (SVMs): Finds the best line or curve to separate the objects with the widest gap between them. Like drawing a boundary.\n",
        "Random Forests: Creates multiple decision trees and combines their results for a more accurate prediction. Like a team of experts.\n",
        "K-Nearest Neighbors (KNN): Looks at the closest objects and assigns a new object to the box that most of its neighbors belong to. Like a popularity contest.\n",
        "Naive Bayes: Uses probability to determine which box an object is most likely to belong to based on its features. Like making an educated guess."
      ],
      "metadata": {
        "id": "riOAoeoNqAgR"
      }
    },
    {
      "cell_type": "markdown",
      "source": [
        "11.What are Classification Evaluation Metrics"
      ],
      "metadata": {
        "id": "of4rIRWzHjJ2"
      }
    },
    {
      "cell_type": "markdown",
      "source": [
        "Ans.The choice of the appropriate metric depends on the specific problem and the relative importance of different types of errors. For example, in a medical diagnosis scenario, recall might be more important than precision, as it is crucial to identify all positive cases (patients with the disease). In a spam detection scenario, precision might be more important, as it is desirable to minimize false positives (legitimate emails classified as spam)."
      ],
      "metadata": {
        "id": "B4FOIDlbHjyk"
      }
    },
    {
      "cell_type": "markdown",
      "source": [
        "12.C How does class imbalance affect Logistic Regression."
      ],
      "metadata": {
        "id": "gHl7h-fjHyuc"
      }
    },
    {
      "cell_type": "markdown",
      "source": [
        "Ans.Class imbalance can make Logistic Regression less accurate at predicting the minority class, even if its overall accuracy seems high.\n",
        "The model might become too focused on the majority class and overlook the important but rare instances of the minority class."
      ],
      "metadata": {
        "id": "-eQgUP_THz2z"
      }
    },
    {
      "cell_type": "markdown",
      "source": [
        "13.What is Hyperparameter Tuning in Logistic Regression."
      ],
      "metadata": {
        "id": "sfsRgBFvIF6Y"
      }
    },
    {
      "cell_type": "markdown",
      "source": [
        "Ans.yperparameter tuning is like trying different combinations of settings for your Logistic Regression model to find the ones that give you the best results. It helps you fine-tune the model for optimal performance."
      ],
      "metadata": {
        "id": "OuPLWS09IGOE"
      }
    },
    {
      "cell_type": "markdown",
      "source": [
        "14.What are different solvers in Logistic Regression? Which one should be used."
      ],
      "metadata": {
        "id": "rn0vzuxcIWfF"
      }
    },
    {
      "cell_type": "markdown",
      "source": [
        "Ans.Solvers are like different tools for finding the best solution in Logistic Regression. Some tools are better suited for certain tasks than others. You can try different tools to see which one works best for your specific problem."
      ],
      "metadata": {
        "id": "1jGBangNIWbf"
      }
    },
    {
      "cell_type": "markdown",
      "source": [
        "15.How is Logistic Regression extended for multiclass classification"
      ],
      "metadata": {
        "id": "A66GujMrIpCV"
      }
    },
    {
      "cell_type": "markdown",
      "source": [
        "Ans.One-vs-Rest: Creates multiple binary models, one for each class, to distinguish it from the rest.\n",
        "Multinomial: Creates a single model that directly predicts probabilities for all classes."
      ],
      "metadata": {
        "id": "t-5mE3VYIppw"
      }
    },
    {
      "cell_type": "markdown",
      "source": [
        "16.What are the advantages and disadvantages of Logistic Regression"
      ],
      "metadata": {
        "id": "BXwsf2PUI4tO"
      }
    },
    {
      "cell_type": "markdown",
      "source": [
        "Ans.Good things: Easy to understand, fast to train, works well for simple classification problems.\n",
        "\n",
        "Not-so-good things: Might not work for complex data, sensitive to outliers, limited to categorical outcomes."
      ],
      "metadata": {
        "id": "wAOB8OPVI5Bq"
      }
    },
    {
      "cell_type": "markdown",
      "source": [
        "17.What are some use cases of Logistic Regression."
      ],
      "metadata": {
        "id": "39_DhrFuJeqP"
      }
    },
    {
      "cell_type": "markdown",
      "source": [
        "Ans.Logistic Regression is used in many situations where we need to make a yes/no decision or classify something into categories. It's like asking, \"Will this happen or not?\" or \"Does this belong to group A or group B?\""
      ],
      "metadata": {
        "id": "tEHg2DyTJeyh"
      }
    },
    {
      "cell_type": "markdown",
      "source": [
        "18.What is the difference between Softmax Regression and Logistic Regression"
      ],
      "metadata": {
        "id": "kl13-xUNJvzf"
      }
    },
    {
      "cell_type": "markdown",
      "source": [
        "Ans.Logistic Regression: Used for simple yes/no decisions.\n",
        "Softmax Regression: Used for choices between multiple categories."
      ],
      "metadata": {
        "id": "OSaJPJq1JwME"
      }
    },
    {
      "cell_type": "markdown",
      "source": [
        "19.How do we choose between One-vs-Rest (OvR) and Softmax for multiclass classification."
      ],
      "metadata": {
        "id": "PNe3wSKjKB_f"
      }
    },
    {
      "cell_type": "markdown",
      "source": [
        "Ans.One-vs-Rest (OvR): Creates multiple simple models, one for each class.\n",
        "Softmax: Creates a single complex model that considers all classes at once."
      ],
      "metadata": {
        "id": "V7o5EJ6FKCpd"
      }
    },
    {
      "cell_type": "markdown",
      "source": [
        "20.How do we interpret coefficients in Logistic Regression."
      ],
      "metadata": {
        "id": "elHiXdURKZhX"
      }
    },
    {
      "cell_type": "markdown",
      "source": [
        "Ans.Coefficients tell us how much a predictor variable influences the likelihood of the outcome"
      ],
      "metadata": {
        "id": "hUuwsTZ0KaE3"
      }
    },
    {
      "cell_type": "code",
      "execution_count": null,
      "metadata": {
        "id": "_yPAQk7ytMTR"
      },
      "outputs": [],
      "source": []
    },
    {
      "cell_type": "markdown",
      "source": [],
      "metadata": {
        "id": "r-pDugG-Hy2O"
      }
    }
  ]
}