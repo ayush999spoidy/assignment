{
  "nbformat": 4,
  "nbformat_minor": 0,
  "metadata": {
    "colab": {
      "provenance": []
    },
    "kernelspec": {
      "name": "python3",
      "display_name": "Python 3"
    },
    "language_info": {
      "name": "python"
    }
  },
  "cells": [
    {
      "cell_type": "markdown",
      "source": [
        "1.discuss string slicing and provide example."
      ],
      "metadata": {
        "id": "OVeWZeb-OrXF"
      }
    },
    {
      "cell_type": "markdown",
      "source": [
        "Ans.Python that allows you to extract a portion of a string using a specified range of indices."
      ],
      "metadata": {
        "id": "h5nQ0rFJOrIQ"
      }
    },
    {
      "cell_type": "code",
      "execution_count": 2,
      "metadata": {
        "id": "CIYOaTFnOa5n"
      },
      "outputs": [],
      "source": [
        "b = \"hello,ayush!\"\n"
      ]
    },
    {
      "cell_type": "code",
      "source": [
        "b[2:3]"
      ],
      "metadata": {
        "colab": {
          "base_uri": "https://localhost:8080/",
          "height": 36
        },
        "id": "b7B0iNvsPplu",
        "outputId": "ad6ba446-4dbb-4312-e090-ec3508b5b2a5"
      },
      "execution_count": 5,
      "outputs": [
        {
          "output_type": "execute_result",
          "data": {
            "text/plain": [
              "'l'"
            ],
            "application/vnd.google.colaboratory.intrinsic+json": {
              "type": "string"
            }
          },
          "metadata": {},
          "execution_count": 5
        }
      ]
    },
    {
      "cell_type": "code",
      "source": [
        "b[1:3]"
      ],
      "metadata": {
        "colab": {
          "base_uri": "https://localhost:8080/",
          "height": 36
        },
        "id": "SrYCRtjyPwB2",
        "outputId": "69d30dd4-0bab-45c4-b3f5-deac5837d3a7"
      },
      "execution_count": 6,
      "outputs": [
        {
          "output_type": "execute_result",
          "data": {
            "text/plain": [
              "'el'"
            ],
            "application/vnd.google.colaboratory.intrinsic+json": {
              "type": "string"
            }
          },
          "metadata": {},
          "execution_count": 6
        }
      ]
    },
    {
      "cell_type": "markdown",
      "source": [
        "2.explain the key feature of lists in python."
      ],
      "metadata": {
        "id": "aRgaDTuLQtjZ"
      }
    },
    {
      "cell_type": "markdown",
      "source": [
        "Ans.Lists in Python are one of the most versatile and widely used data structures. Here are some key features with example."
      ],
      "metadata": {
        "id": "c0C8zArgQtUj"
      }
    },
    {
      "cell_type": "code",
      "source": [
        "list1 = [1,2,3,\"python1\",\"pwskills\"]"
      ],
      "metadata": {
        "id": "D1OXDPToP5cn"
      },
      "execution_count": 7,
      "outputs": []
    },
    {
      "cell_type": "code",
      "source": [
        "list1"
      ],
      "metadata": {
        "colab": {
          "base_uri": "https://localhost:8080/"
        },
        "id": "-jr6NMPbRQ2_",
        "outputId": "c53061ab-81f5-463d-f817-23c74cb13c4a"
      },
      "execution_count": 8,
      "outputs": [
        {
          "output_type": "execute_result",
          "data": {
            "text/plain": [
              "[1, 2, 3, 'python1', 'pwskills']"
            ]
          },
          "metadata": {},
          "execution_count": 8
        }
      ]
    },
    {
      "cell_type": "code",
      "source": [
        "list1.append(5)"
      ],
      "metadata": {
        "id": "FvXbZL-CRR2t"
      },
      "execution_count": 9,
      "outputs": []
    },
    {
      "cell_type": "code",
      "source": [
        "list1"
      ],
      "metadata": {
        "colab": {
          "base_uri": "https://localhost:8080/"
        },
        "id": "pk8iXaC8RVig",
        "outputId": "e426123e-66f7-49b4-d20f-f2ccd588efc3"
      },
      "execution_count": 10,
      "outputs": [
        {
          "output_type": "execute_result",
          "data": {
            "text/plain": [
              "[1, 2, 3, 'python1', 'pwskills', 5]"
            ]
          },
          "metadata": {},
          "execution_count": 10
        }
      ]
    },
    {
      "cell_type": "code",
      "source": [
        "list1[1]=\"ayush\""
      ],
      "metadata": {
        "id": "TxW3ZOkLRXvF"
      },
      "execution_count": 11,
      "outputs": []
    },
    {
      "cell_type": "code",
      "source": [
        "list1"
      ],
      "metadata": {
        "colab": {
          "base_uri": "https://localhost:8080/"
        },
        "id": "QkBz9k3hRg7K",
        "outputId": "202b3cd8-7e92-4439-b82d-fa6b8bc07fa0"
      },
      "execution_count": 12,
      "outputs": [
        {
          "output_type": "execute_result",
          "data": {
            "text/plain": [
              "[1, 'ayush', 3, 'python1', 'pwskills', 5]"
            ]
          },
          "metadata": {},
          "execution_count": 12
        }
      ]
    },
    {
      "cell_type": "code",
      "source": [
        "list1.remove(\"ayush\")"
      ],
      "metadata": {
        "id": "TRXI1bEnRibM"
      },
      "execution_count": 13,
      "outputs": []
    },
    {
      "cell_type": "code",
      "source": [
        "list1"
      ],
      "metadata": {
        "colab": {
          "base_uri": "https://localhost:8080/"
        },
        "id": "BISu74NiRoxa",
        "outputId": "1e6ed4b6-02e0-4aea-882a-d281eccf3960"
      },
      "execution_count": 14,
      "outputs": [
        {
          "output_type": "execute_result",
          "data": {
            "text/plain": [
              "[1, 3, 'python1', 'pwskills', 5]"
            ]
          },
          "metadata": {},
          "execution_count": 14
        }
      ]
    },
    {
      "cell_type": "code",
      "source": [
        "len(list1)"
      ],
      "metadata": {
        "colab": {
          "base_uri": "https://localhost:8080/"
        },
        "id": "mnqFSrhbRpw3",
        "outputId": "5151296b-7e61-49e0-b60a-97e665cb0d6a"
      },
      "execution_count": 15,
      "outputs": [
        {
          "output_type": "execute_result",
          "data": {
            "text/plain": [
              "5"
            ]
          },
          "metadata": {},
          "execution_count": 15
        }
      ]
    },
    {
      "cell_type": "code",
      "source": [
        "list1.pop(4)"
      ],
      "metadata": {
        "colab": {
          "base_uri": "https://localhost:8080/"
        },
        "id": "vfILpOYCRu9I",
        "outputId": "d18dc91e-86fb-4127-bc8e-70d749c66a6f"
      },
      "execution_count": 22,
      "outputs": [
        {
          "output_type": "execute_result",
          "data": {
            "text/plain": [
              "5"
            ]
          },
          "metadata": {},
          "execution_count": 22
        }
      ]
    },
    {
      "cell_type": "code",
      "source": [
        "list1"
      ],
      "metadata": {
        "colab": {
          "base_uri": "https://localhost:8080/"
        },
        "id": "rnJenQiRRzu0",
        "outputId": "ab9eaea9-c71b-4f0b-d324-7f1c80722e80"
      },
      "execution_count": 23,
      "outputs": [
        {
          "output_type": "execute_result",
          "data": {
            "text/plain": [
              "[1, 3, 'python1', 'pwskills']"
            ]
          },
          "metadata": {},
          "execution_count": 23
        }
      ]
    },
    {
      "cell_type": "code",
      "source": [
        "list1.reverse()"
      ],
      "metadata": {
        "id": "ZNlSLDVtSLq1"
      },
      "execution_count": 26,
      "outputs": []
    },
    {
      "cell_type": "code",
      "source": [
        "list1"
      ],
      "metadata": {
        "colab": {
          "base_uri": "https://localhost:8080/"
        },
        "id": "3bGvut2vSSU-",
        "outputId": "d3b7ffe9-2889-4e18-f7dc-d5f2f1445b3c"
      },
      "execution_count": 27,
      "outputs": [
        {
          "output_type": "execute_result",
          "data": {
            "text/plain": [
              "['pwskills', 'python1', 3, 1]"
            ]
          },
          "metadata": {},
          "execution_count": 27
        }
      ]
    },
    {
      "cell_type": "markdown",
      "source": [
        "3.describe how to access,modify,and delete elements in a list with example"
      ],
      "metadata": {
        "id": "lYnG87F7TEnu"
      }
    },
    {
      "cell_type": "markdown",
      "source": [
        "Ans.Accessing, modifying, and deleting elements in a list in Python is straightforward"
      ],
      "metadata": {
        "id": "Bn2KcOCmTEbZ"
      }
    },
    {
      "cell_type": "code",
      "source": [
        "#accessing Elements\n",
        "my_list= [1,2,3,\"shreeRam\",\"Hanuman\"]"
      ],
      "metadata": {
        "id": "Zf-DsSplScYI"
      },
      "execution_count": 28,
      "outputs": []
    },
    {
      "cell_type": "code",
      "source": [
        "my_list[4]"
      ],
      "metadata": {
        "colab": {
          "base_uri": "https://localhost:8080/",
          "height": 36
        },
        "id": "2aIF4K6PTp8k",
        "outputId": "e42cee1d-7a52-4376-a465-26b1fa24fc88"
      },
      "execution_count": 29,
      "outputs": [
        {
          "output_type": "execute_result",
          "data": {
            "text/plain": [
              "'Hanuman'"
            ],
            "application/vnd.google.colaboratory.intrinsic+json": {
              "type": "string"
            }
          },
          "metadata": {},
          "execution_count": 29
        }
      ]
    },
    {
      "cell_type": "code",
      "source": [
        "#Modifying elements\n",
        "my_list= [1,2,3,\"shreeRam\",\"Hanuman\"]"
      ],
      "metadata": {
        "id": "R8bOwpOJUEWl"
      },
      "execution_count": 30,
      "outputs": []
    },
    {
      "cell_type": "code",
      "source": [
        "my_list[1]=60"
      ],
      "metadata": {
        "id": "257Czha9UaNR"
      },
      "execution_count": 31,
      "outputs": []
    },
    {
      "cell_type": "code",
      "source": [
        "my_list"
      ],
      "metadata": {
        "colab": {
          "base_uri": "https://localhost:8080/"
        },
        "id": "QS7i6I9XUd4f",
        "outputId": "cc05ba6c-b2a6-4716-b11b-75e90ff27ad2"
      },
      "execution_count": 32,
      "outputs": [
        {
          "output_type": "execute_result",
          "data": {
            "text/plain": [
              "[1, 60, 3, 'shreeRam', 'Hanuman']"
            ]
          },
          "metadata": {},
          "execution_count": 32
        }
      ]
    },
    {
      "cell_type": "code",
      "source": [
        "#delete elements\n",
        "my_list= [1,2,3,\"shreeRam\",\"Hanuman\"]"
      ],
      "metadata": {
        "id": "3re6h7ofUfah"
      },
      "execution_count": 33,
      "outputs": []
    },
    {
      "cell_type": "code",
      "source": [
        "del my_list"
      ],
      "metadata": {
        "id": "tVcUjtyDUrby"
      },
      "execution_count": 35,
      "outputs": []
    },
    {
      "cell_type": "code",
      "source": [
        "my_list"
      ],
      "metadata": {
        "colab": {
          "base_uri": "https://localhost:8080/",
          "height": 141
        },
        "id": "BFlXa8pSUtw7",
        "outputId": "3714545a-1343-411a-e58a-d0f969b860c7"
      },
      "execution_count": 36,
      "outputs": [
        {
          "output_type": "error",
          "ename": "NameError",
          "evalue": "name 'my_list' is not defined",
          "traceback": [
            "\u001b[0;31m---------------------------------------------------------------------------\u001b[0m",
            "\u001b[0;31mNameError\u001b[0m                                 Traceback (most recent call last)",
            "\u001b[0;32m<ipython-input-36-9af163499740>\u001b[0m in \u001b[0;36m<cell line: 1>\u001b[0;34m()\u001b[0m\n\u001b[0;32m----> 1\u001b[0;31m \u001b[0mmy_list\u001b[0m\u001b[0;34m\u001b[0m\u001b[0;34m\u001b[0m\u001b[0m\n\u001b[0m",
            "\u001b[0;31mNameError\u001b[0m: name 'my_list' is not defined"
          ]
        }
      ]
    },
    {
      "cell_type": "code",
      "source": [
        "my_list= [1,2,3,\"shreeRam\",\"Hanuman\"]"
      ],
      "metadata": {
        "id": "sxg0gJALUxyp"
      },
      "execution_count": 37,
      "outputs": []
    },
    {
      "cell_type": "code",
      "source": [
        "del my_list[2]"
      ],
      "metadata": {
        "id": "CUsh84GKU7Qc"
      },
      "execution_count": 38,
      "outputs": []
    },
    {
      "cell_type": "code",
      "source": [
        "my_list"
      ],
      "metadata": {
        "colab": {
          "base_uri": "https://localhost:8080/"
        },
        "id": "RR2KtNCwU_Os",
        "outputId": "4ce4efed-bc83-44f3-8afe-3fb4843e4fab"
      },
      "execution_count": 39,
      "outputs": [
        {
          "output_type": "execute_result",
          "data": {
            "text/plain": [
              "[1, 2, 'shreeRam', 'Hanuman']"
            ]
          },
          "metadata": {},
          "execution_count": 39
        }
      ]
    },
    {
      "cell_type": "markdown",
      "source": [
        "4.compare and contrast tuple and lists in python with examples.\n"
      ],
      "metadata": {
        "id": "3m2ExggIVNME"
      }
    },
    {
      "cell_type": "markdown",
      "source": [
        "Ans.tuple and list both are the used to store the collection of items but they have different uses like we can write the list inside the square bracket [] and list mutable, we can write tuple inside the paranthesis() and nature is immutable.we can [ we can change, modify, remove,del,pop,etc.] tuple( in tuple once created then you cannot change anything)"
      ],
      "metadata": {
        "id": "oZSB67Z3VM9-"
      }
    },
    {
      "cell_type": "code",
      "source": [
        "my_list= [1,2,3,\"shreeRam\",\"Hanuman\"]"
      ],
      "metadata": {
        "id": "yqSDhxIwVAy7"
      },
      "execution_count": 43,
      "outputs": []
    },
    {
      "cell_type": "code",
      "source": [
        "my_list.append(5)"
      ],
      "metadata": {
        "id": "vSVYtFYnYOpX"
      },
      "execution_count": 44,
      "outputs": []
    },
    {
      "cell_type": "code",
      "source": [
        "my_list"
      ],
      "metadata": {
        "colab": {
          "base_uri": "https://localhost:8080/"
        },
        "id": "x7FinsKAYb7c",
        "outputId": "713ed75e-0f03-43a0-deae-505f4cd8d1bd"
      },
      "execution_count": 45,
      "outputs": [
        {
          "output_type": "execute_result",
          "data": {
            "text/plain": [
              "[1, 2, 3, 'shreeRam', 'Hanuman', 5]"
            ]
          },
          "metadata": {},
          "execution_count": 45
        }
      ]
    },
    {
      "cell_type": "code",
      "source": [
        "list1 =(1,2,3,\"ayush\")"
      ],
      "metadata": {
        "id": "G8iaIF_DYd6f"
      },
      "execution_count": 47,
      "outputs": []
    },
    {
      "cell_type": "code",
      "source": [
        "list1.append(5)"
      ],
      "metadata": {
        "colab": {
          "base_uri": "https://localhost:8080/",
          "height": 141
        },
        "id": "pKooqOmeYsAo",
        "outputId": "f7735fcc-4773-401e-daeb-ab807094f9e5"
      },
      "execution_count": 48,
      "outputs": [
        {
          "output_type": "error",
          "ename": "AttributeError",
          "evalue": "'tuple' object has no attribute 'append'",
          "traceback": [
            "\u001b[0;31m---------------------------------------------------------------------------\u001b[0m",
            "\u001b[0;31mAttributeError\u001b[0m                            Traceback (most recent call last)",
            "\u001b[0;32m<ipython-input-48-fde52c835a05>\u001b[0m in \u001b[0;36m<cell line: 1>\u001b[0;34m()\u001b[0m\n\u001b[0;32m----> 1\u001b[0;31m \u001b[0mlist1\u001b[0m\u001b[0;34m.\u001b[0m\u001b[0mappend\u001b[0m\u001b[0;34m(\u001b[0m\u001b[0;36m5\u001b[0m\u001b[0;34m)\u001b[0m\u001b[0;34m\u001b[0m\u001b[0;34m\u001b[0m\u001b[0m\n\u001b[0m",
            "\u001b[0;31mAttributeError\u001b[0m: 'tuple' object has no attribute 'append'"
          ]
        }
      ]
    },
    {
      "cell_type": "code",
      "source": [
        "list1.remove(2)"
      ],
      "metadata": {
        "colab": {
          "base_uri": "https://localhost:8080/",
          "height": 141
        },
        "id": "lO1VfVY7Yy0Z",
        "outputId": "8601d321-5a80-4914-bd2d-2e939e3ee658"
      },
      "execution_count": 49,
      "outputs": [
        {
          "output_type": "error",
          "ename": "AttributeError",
          "evalue": "'tuple' object has no attribute 'remove'",
          "traceback": [
            "\u001b[0;31m---------------------------------------------------------------------------\u001b[0m",
            "\u001b[0;31mAttributeError\u001b[0m                            Traceback (most recent call last)",
            "\u001b[0;32m<ipython-input-49-00868d984ced>\u001b[0m in \u001b[0;36m<cell line: 1>\u001b[0;34m()\u001b[0m\n\u001b[0;32m----> 1\u001b[0;31m \u001b[0mlist1\u001b[0m\u001b[0;34m.\u001b[0m\u001b[0mremove\u001b[0m\u001b[0;34m(\u001b[0m\u001b[0;36m2\u001b[0m\u001b[0;34m)\u001b[0m\u001b[0;34m\u001b[0m\u001b[0;34m\u001b[0m\u001b[0m\n\u001b[0m",
            "\u001b[0;31mAttributeError\u001b[0m: 'tuple' object has no attribute 'remove'"
          ]
        }
      ]
    },
    {
      "cell_type": "markdown",
      "source": [
        "5.describe the key features of set ands provide examples of their uses."
      ],
      "metadata": {
        "id": "8M8Iuth6ZgsJ"
      }
    },
    {
      "cell_type": "markdown",
      "source": [
        "Ans.Sets in Python are a powerful data structure that store unordered collections of unique items,in set duplicate not allowed."
      ],
      "metadata": {
        "id": "v0FBrUJlZggi"
      }
    },
    {
      "cell_type": "code",
      "source": [
        "spoidy = {1,2,1,3,3,\"ayush\",\"piyush\"}\n",
        "\n",
        "type(spoidy)"
      ],
      "metadata": {
        "colab": {
          "base_uri": "https://localhost:8080/"
        },
        "id": "aFRwELiQZC8V",
        "outputId": "890e09f0-fe4c-4f9d-e636-2cede93c738e"
      },
      "execution_count": 51,
      "outputs": [
        {
          "output_type": "execute_result",
          "data": {
            "text/plain": [
              "set"
            ]
          },
          "metadata": {},
          "execution_count": 51
        }
      ]
    },
    {
      "cell_type": "code",
      "source": [
        "spoidy"
      ],
      "metadata": {
        "colab": {
          "base_uri": "https://localhost:8080/"
        },
        "id": "p6tAvQTqaGBJ",
        "outputId": "fec8e73e-bbf0-4b07-efd8-513687a2793c"
      },
      "execution_count": 52,
      "outputs": [
        {
          "output_type": "execute_result",
          "data": {
            "text/plain": [
              "{1, 2, 3, 'ayush', 'piyush'}"
            ]
          },
          "metadata": {},
          "execution_count": 52
        }
      ]
    },
    {
      "cell_type": "code",
      "source": [
        "spoidy.add(6)"
      ],
      "metadata": {
        "id": "p-O-E4ZEaOni"
      },
      "execution_count": 53,
      "outputs": []
    },
    {
      "cell_type": "code",
      "source": [
        "spoidy"
      ],
      "metadata": {
        "colab": {
          "base_uri": "https://localhost:8080/"
        },
        "id": "3paEsMLQaUs7",
        "outputId": "c3bc440d-8097-4965-8837-9bad6eb21caa"
      },
      "execution_count": 54,
      "outputs": [
        {
          "output_type": "execute_result",
          "data": {
            "text/plain": [
              "{1, 2, 3, 6, 'ayush', 'piyush'}"
            ]
          },
          "metadata": {},
          "execution_count": 54
        }
      ]
    },
    {
      "cell_type": "code",
      "source": [
        "spoidy.remove(3)"
      ],
      "metadata": {
        "id": "kO11rgcOaV42"
      },
      "execution_count": 55,
      "outputs": []
    },
    {
      "cell_type": "code",
      "source": [
        "spoidy"
      ],
      "metadata": {
        "colab": {
          "base_uri": "https://localhost:8080/"
        },
        "id": "cwtSlHk9aiE4",
        "outputId": "41de13a9-bcb1-4535-ebf5-7882a990345f"
      },
      "execution_count": 56,
      "outputs": [
        {
          "output_type": "execute_result",
          "data": {
            "text/plain": [
              "{1, 2, 6, 'ayush', 'piyush'}"
            ]
          },
          "metadata": {},
          "execution_count": 56
        }
      ]
    },
    {
      "cell_type": "code",
      "source": [
        "spoidy ={1,2,1,3,3,\"ayush\",\"piyush\"}\n",
        "spoidy1 = {1,2,\"Ram\",\"shyam\"}\n",
        "spoidy.union(spoidy1)"
      ],
      "metadata": {
        "colab": {
          "base_uri": "https://localhost:8080/"
        },
        "id": "1FfntgImajMR",
        "outputId": "638d2c06-4942-436e-92d8-50b2c88eeb09"
      },
      "execution_count": 58,
      "outputs": [
        {
          "output_type": "execute_result",
          "data": {
            "text/plain": [
              "{1, 2, 3, 'Ram', 'ayush', 'piyush', 'shyam'}"
            ]
          },
          "metadata": {},
          "execution_count": 58
        }
      ]
    },
    {
      "cell_type": "code",
      "source": [
        "spoidy"
      ],
      "metadata": {
        "colab": {
          "base_uri": "https://localhost:8080/"
        },
        "id": "B4UxPCVUawG-",
        "outputId": "20b6d492-1fe5-4a27-a0dd-029fe7298c74"
      },
      "execution_count": 59,
      "outputs": [
        {
          "output_type": "execute_result",
          "data": {
            "text/plain": [
              "{1, 2, 3, 'ayush', 'piyush'}"
            ]
          },
          "metadata": {},
          "execution_count": 59
        }
      ]
    },
    {
      "cell_type": "code",
      "source": [
        "\"ayush\" in spoidy"
      ],
      "metadata": {
        "colab": {
          "base_uri": "https://localhost:8080/"
        },
        "id": "dj0prBoXa9-X",
        "outputId": "c5f440d9-5248-476f-bf7f-308a44b8326e"
      },
      "execution_count": 62,
      "outputs": [
        {
          "output_type": "execute_result",
          "data": {
            "text/plain": [
              "True"
            ]
          },
          "metadata": {},
          "execution_count": 62
        }
      ]
    },
    {
      "cell_type": "markdown",
      "source": [
        "6.discuss the use case of tuple and sets in python programing."
      ],
      "metadata": {
        "id": "QOcLLlpociJl"
      }
    },
    {
      "cell_type": "markdown",
      "source": [
        "Ans.Both tuples and sets serve diffrent purposes in Python programming, and their use cases can enhance your code's efficiency and readability.Tuples are usefulespecially when you need to group different types of data or return multiple values from a function.Sets are great for handling collections of unique items, where duplicates are not desired."
      ],
      "metadata": {
        "id": "_ghNjH_wch8L"
      }
    },
    {
      "cell_type": "code",
      "source": [
        "#in tuple when you want to create a collection of items that should not be modified This can help prevent accidental changes to data.\n",
        "list1 = (1,2,2)"
      ],
      "metadata": {
        "id": "bMUYFefMbBHc"
      },
      "execution_count": 65,
      "outputs": []
    },
    {
      "cell_type": "code",
      "source": [
        "list1"
      ],
      "metadata": {
        "colab": {
          "base_uri": "https://localhost:8080/"
        },
        "id": "Ql7Uy3JybmEF",
        "outputId": "00dacb11-65e4-4b05-bb01-08015167ae6f"
      },
      "execution_count": 66,
      "outputs": [
        {
          "output_type": "execute_result",
          "data": {
            "text/plain": [
              "(1, 2, 2)"
            ]
          },
          "metadata": {},
          "execution_count": 66
        }
      ]
    },
    {
      "cell_type": "code",
      "source": [
        "# set automatically remove the duplicate values making them ideal for filtering unique items from a list.\n",
        "list2 = {1,2.2,2.2,3,4,4,4,5,}\n"
      ],
      "metadata": {
        "id": "4NoWVIVldgm2"
      },
      "execution_count": 67,
      "outputs": []
    },
    {
      "cell_type": "code",
      "source": [
        "list2"
      ],
      "metadata": {
        "colab": {
          "base_uri": "https://localhost:8080/"
        },
        "id": "0qIblFZ6eEVA",
        "outputId": "5efea82f-d5d6-49c5-a91d-cd6cdcbc9d78"
      },
      "execution_count": 68,
      "outputs": [
        {
          "output_type": "execute_result",
          "data": {
            "text/plain": [
              "{1, 2.2, 3, 4, 5}"
            ]
          },
          "metadata": {},
          "execution_count": 68
        }
      ]
    },
    {
      "cell_type": "markdown",
      "source": [
        "7.describe how to add, delete and modify items in dictionary with examples."
      ],
      "metadata": {
        "id": "CiattJRXf36o"
      }
    },
    {
      "cell_type": "markdown",
      "source": [
        "Ans.A dictionary in Python is a collection of key-value pairs, where each key is unique"
      ],
      "metadata": {
        "id": "HTW8feZNf3sM"
      }
    },
    {
      "cell_type": "code",
      "source": [
        "my_dict = {\"name\":\"ayush\",\"adress\":\"allahabad\"}"
      ],
      "metadata": {
        "id": "3ACxJEXveFwg"
      },
      "execution_count": 69,
      "outputs": []
    },
    {
      "cell_type": "code",
      "source": [
        "my_dict"
      ],
      "metadata": {
        "colab": {
          "base_uri": "https://localhost:8080/"
        },
        "id": "s4EvMhwSgeVY",
        "outputId": "96d8e083-6150-408d-fc9f-79eeee2e9297"
      },
      "execution_count": 70,
      "outputs": [
        {
          "output_type": "execute_result",
          "data": {
            "text/plain": [
              "{'name': 'ayush', 'adress': 'allahabad'}"
            ]
          },
          "metadata": {},
          "execution_count": 70
        }
      ]
    },
    {
      "cell_type": "code",
      "source": [
        "type(my_dict)"
      ],
      "metadata": {
        "colab": {
          "base_uri": "https://localhost:8080/"
        },
        "id": "MsMhM9PgggO-",
        "outputId": "fca92a43-6b59-458a-836a-1f98156685eb"
      },
      "execution_count": 71,
      "outputs": [
        {
          "output_type": "execute_result",
          "data": {
            "text/plain": [
              "dict"
            ]
          },
          "metadata": {},
          "execution_count": 71
        }
      ]
    },
    {
      "cell_type": "code",
      "source": [],
      "metadata": {
        "id": "WSTI-aDngkHZ"
      },
      "execution_count": 79,
      "outputs": []
    },
    {
      "cell_type": "code",
      "source": [
        "my_dict.update({\"age\":60})"
      ],
      "metadata": {
        "id": "Jp3ZZuQAg5T5"
      },
      "execution_count": 75,
      "outputs": []
    },
    {
      "cell_type": "code",
      "source": [
        "my_dict"
      ],
      "metadata": {
        "colab": {
          "base_uri": "https://localhost:8080/"
        },
        "id": "-yxWl6drhS5f",
        "outputId": "1d92e84d-683a-44f9-c90c-ef339bea0c80"
      },
      "execution_count": 76,
      "outputs": [
        {
          "output_type": "execute_result",
          "data": {
            "text/plain": [
              "{'name': 'ayush', 'adress': 'allahabad', 'age': 60}"
            ]
          },
          "metadata": {},
          "execution_count": 76
        }
      ]
    },
    {
      "cell_type": "code",
      "source": [
        "my_dict.clear()"
      ],
      "metadata": {
        "id": "rprUvgsyhaid"
      },
      "execution_count": 77,
      "outputs": []
    },
    {
      "cell_type": "code",
      "source": [
        "my.dict()"
      ],
      "metadata": {
        "colab": {
          "base_uri": "https://localhost:8080/",
          "height": 141
        },
        "id": "oMFfDUAAhhzi",
        "outputId": "d18dfdb6-3aae-418e-be3e-9f2bd925108a"
      },
      "execution_count": 78,
      "outputs": [
        {
          "output_type": "error",
          "ename": "NameError",
          "evalue": "name 'my' is not defined",
          "traceback": [
            "\u001b[0;31m---------------------------------------------------------------------------\u001b[0m",
            "\u001b[0;31mNameError\u001b[0m                                 Traceback (most recent call last)",
            "\u001b[0;32m<ipython-input-78-aebc09fdff5b>\u001b[0m in \u001b[0;36m<cell line: 1>\u001b[0;34m()\u001b[0m\n\u001b[0;32m----> 1\u001b[0;31m \u001b[0mmy\u001b[0m\u001b[0;34m.\u001b[0m\u001b[0mdict\u001b[0m\u001b[0;34m(\u001b[0m\u001b[0;34m)\u001b[0m\u001b[0;34m\u001b[0m\u001b[0;34m\u001b[0m\u001b[0m\n\u001b[0m",
            "\u001b[0;31mNameError\u001b[0m: name 'my' is not defined"
          ]
        }
      ]
    },
    {
      "cell_type": "code",
      "source": [
        "my_dict = {\"name\":\"ayush\",\"adress\":\"allahabad\"}"
      ],
      "metadata": {
        "id": "EcuX_S3UhlGm"
      },
      "execution_count": 80,
      "outputs": []
    },
    {
      "cell_type": "code",
      "source": [
        "my_dict[\"adress\"]=\"prayagraj\""
      ],
      "metadata": {
        "id": "3c-rHi-ziCh9"
      },
      "execution_count": 81,
      "outputs": []
    },
    {
      "cell_type": "code",
      "source": [
        "my_dict"
      ],
      "metadata": {
        "colab": {
          "base_uri": "https://localhost:8080/"
        },
        "id": "9sfP8cUViJzy",
        "outputId": "fa56ce41-81cf-4066-a70d-d04bde8c2dd7"
      },
      "execution_count": 82,
      "outputs": [
        {
          "output_type": "execute_result",
          "data": {
            "text/plain": [
              "{'name': 'ayush', 'adress': 'prayagraj'}"
            ]
          },
          "metadata": {},
          "execution_count": 82
        }
      ]
    },
    {
      "cell_type": "markdown",
      "source": [
        "8.discuss the importance of dictionary keys being immutable and provide examples."
      ],
      "metadata": {
        "id": "FBRmtHF5jCUe"
      }
    },
    {
      "cell_type": "markdown",
      "source": [
        "Ans.In Python, dictionary keys must be immutable, that once created, they cannot be changed,Each key in a dictionary is hashed which is used to map the key to its corresponding value. If a key can change, the hash value would change, making it difficult to find the key."
      ],
      "metadata": {
        "id": "MZ6ddYcejCLg"
      }
    },
    {
      "cell_type": "code",
      "source": [
        "my_dics = {\"name\":\"ayush\",\"age\":\"22\",\"adrress\":\"Prayagraj\"}"
      ],
      "metadata": {
        "id": "KLVAg8GPiLSI"
      },
      "execution_count": 83,
      "outputs": []
    },
    {
      "cell_type": "code",
      "source": [
        "my_dics"
      ],
      "metadata": {
        "colab": {
          "base_uri": "https://localhost:8080/"
        },
        "id": "-p93e6L5kuKF",
        "outputId": "d8a01c51-1a49-4f36-d7c1-78680551ab99"
      },
      "execution_count": 84,
      "outputs": [
        {
          "output_type": "execute_result",
          "data": {
            "text/plain": [
              "{'name': 'ayush', 'age': '22', 'adrress': 'Prayagraj'}"
            ]
          },
          "metadata": {},
          "execution_count": 84
        }
      ]
    },
    {
      "cell_type": "code",
      "source": [
        "my_dics[\"name\"]"
      ],
      "metadata": {
        "colab": {
          "base_uri": "https://localhost:8080/",
          "height": 36
        },
        "id": "OSdq7_kUkwwN",
        "outputId": "b52f37f9-6609-4e5a-9822-cfeb925266b4"
      },
      "execution_count": 89,
      "outputs": [
        {
          "output_type": "execute_result",
          "data": {
            "text/plain": [
              "'ayush'"
            ],
            "application/vnd.google.colaboratory.intrinsic+json": {
              "type": "string"
            }
          },
          "metadata": {},
          "execution_count": 89
        }
      ]
    },
    {
      "cell_type": "code",
      "source": [],
      "metadata": {
        "id": "pNo0JpOxk4ZR"
      },
      "execution_count": null,
      "outputs": []
    }
  ]
}