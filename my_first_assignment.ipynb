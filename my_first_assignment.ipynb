{
  "nbformat": 4,
  "nbformat_minor": 0,
  "metadata": {
    "colab": {
      "provenance": []
    },
    "kernelspec": {
      "name": "python3",
      "display_name": "Python 3"
    },
    "language_info": {
      "name": "python"
    }
  },
  "cells": [
    {
      "cell_type": "markdown",
      "source": [
        "1.Explain the key features python that make  it a popular choice for programming.\n"
      ],
      "metadata": {
        "id": "k0YUINTX5HtV"
      }
    },
    {
      "cell_type": "markdown",
      "source": [
        "Ans. Pythone has large active community source we can learn and use easely and free that that's why people give priority as per comparison other programming language,it has 137000 libraries, phthon is high level language but it is easy to understand and execute the code, python is most popular programming langauge choice among the developer and programmers."
      ],
      "metadata": {
        "id": "6ML33EUH5Hwu"
      }
    },
    {
      "cell_type": "markdown",
      "source": [
        "2.Discribe the role of predifined keywords in python and provide examples of how they are used in a program."
      ],
      "metadata": {
        "id": "L4u8Icp97kgE"
      }
    },
    {
      "cell_type": "markdown",
      "source": [
        "Ans. Python keywords cannot be used as the names of variables, functions, and classes keyword, it is reserved words whose meaning is already define in the interpretier, python keywords are the case sensitive. it has 33 keywords.We can use predifined keyword as per the condition.Python keywords we can not use for persanl purpose.\n",
        "   "
      ],
      "metadata": {
        "id": "2Sd-2zkr74ex"
      }
    },
    {
      "cell_type": "code",
      "execution_count": 5,
      "metadata": {
        "colab": {
          "base_uri": "https://localhost:8080/"
        },
        "id": "mk9fYaSw2Ojb",
        "outputId": "89920890-91c8-4799-be9f-628bc87511a6"
      },
      "outputs": [
        {
          "output_type": "stream",
          "name": "stdout",
          "text": [
            "['False', 'None', 'True', 'and', 'as', 'assert', 'async', 'await', 'break', 'class', 'continue', 'def', 'del', 'elif', 'else', 'except', 'finally', 'for', 'from', 'global', 'if', 'import', 'in', 'is', 'lambda', 'nonlocal', 'not', 'or', 'pass', 'raise', 'return', 'try', 'while', 'with', 'yield']\n"
          ]
        }
      ],
      "source": [
        "import keyword\n",
        "print(keyword.kwlist)"
      ]
    },
    {
      "cell_type": "markdown",
      "source": [],
      "metadata": {
        "id": "4whwwjVh2W8O"
      }
    },
    {
      "cell_type": "code",
      "source": [
        "if 3>5:\n",
        "  print(\"greater\")\n",
        "else:\n",
        "  print(\"smaller\")"
      ],
      "metadata": {
        "colab": {
          "base_uri": "https://localhost:8080/"
        },
        "id": "6zzLn5Gk-TwO",
        "outputId": "5e9ed9bb-2f1a-41b9-9982-500db2c5fd52"
      },
      "execution_count": 8,
      "outputs": [
        {
          "output_type": "stream",
          "name": "stdout",
          "text": [
            "smaller\n"
          ]
        }
      ]
    },
    {
      "cell_type": "code",
      "source": [
        "if 3>2:\n",
        "  print(\"greater\")\n",
        "else:\n",
        "  print(\"smaller\")"
      ],
      "metadata": {
        "colab": {
          "base_uri": "https://localhost:8080/"
        },
        "id": "8-nm1moE-UPI",
        "outputId": "f3445f0d-c88f-4a89-bf59-7a82d579d45e"
      },
      "execution_count": 9,
      "outputs": [
        {
          "output_type": "stream",
          "name": "stdout",
          "text": [
            "greater\n"
          ]
        }
      ]
    },
    {
      "cell_type": "code",
      "source": [
        "a = \"greater\"\n",
        "for i in a:\n",
        "  print(i)"
      ],
      "metadata": {
        "colab": {
          "base_uri": "https://localhost:8080/"
        },
        "id": "M5L6gfM7CZuK",
        "outputId": "1622b8c0-9d3a-45bd-b53f-a82a664b0db9"
      },
      "execution_count": 10,
      "outputs": [
        {
          "output_type": "stream",
          "name": "stdout",
          "text": [
            "g\n",
            "r\n",
            "e\n",
            "a\n",
            "t\n",
            "e\n",
            "r\n"
          ]
        }
      ]
    },
    {
      "cell_type": "code",
      "source": [
        "a = 7\n",
        "b = 1\n",
        "while b<a:\n",
        "  print(b)\n",
        "  b = b+1\n",
        "\n",
        "\n",
        "\n",
        ""
      ],
      "metadata": {
        "colab": {
          "base_uri": "https://localhost:8080/"
        },
        "id": "JgQgocUsDCGl",
        "outputId": "a7e02a42-91dc-4e3f-ec3a-cfaaf2f52728"
      },
      "execution_count": 13,
      "outputs": [
        {
          "output_type": "stream",
          "name": "stdout",
          "text": [
            "1\n",
            "2\n",
            "3\n",
            "4\n",
            "5\n",
            "6\n"
          ]
        }
      ]
    },
    {
      "cell_type": "code",
      "source": [
        "a = 7\n",
        "b = 1\n",
        "while b<a:\n",
        "  print(b)\n",
        "  b = b+1\n",
        "  if b == 3:\n",
        "    break\n",
        "else:\n",
        "  print(\"this will be execute when the while run is succefully without break\")"
      ],
      "metadata": {
        "colab": {
          "base_uri": "https://localhost:8080/"
        },
        "id": "pNLo1s8_Ditl",
        "outputId": "f841f912-2c7b-47ed-a17f-7225dc75d2e1"
      },
      "execution_count": 14,
      "outputs": [
        {
          "output_type": "stream",
          "name": "stdout",
          "text": [
            "1\n",
            "2\n"
          ]
        }
      ]
    },
    {
      "cell_type": "code",
      "source": [
        "a = 7\n",
        "b = 1\n",
        "while b<a:\n",
        "  print(b)\n",
        "  b = b+1\n",
        "  if b == 3:\n",
        "    continue"
      ],
      "metadata": {
        "colab": {
          "base_uri": "https://localhost:8080/"
        },
        "id": "qJgF3IrJElau",
        "outputId": "07e25845-8212-4a6d-f0b6-a17b6a2b926c"
      },
      "execution_count": 15,
      "outputs": [
        {
          "output_type": "stream",
          "name": "stdout",
          "text": [
            "1\n",
            "2\n",
            "3\n",
            "4\n",
            "5\n",
            "6\n"
          ]
        }
      ]
    },
    {
      "cell_type": "code",
      "source": [
        "a = [1,2,3,\"data science\",\"physicswallah\"]\n",
        "for i in a:\n",
        "  print(i)"
      ],
      "metadata": {
        "colab": {
          "base_uri": "https://localhost:8080/"
        },
        "id": "BtAgwF-zHKEY",
        "outputId": "6984bdee-85a2-4d5d-efd5-847de159d794"
      },
      "execution_count": 16,
      "outputs": [
        {
          "output_type": "stream",
          "name": "stdout",
          "text": [
            "1\n",
            "2\n",
            "3\n",
            "data science\n",
            "physicswallah\n"
          ]
        }
      ]
    },
    {
      "cell_type": "code",
      "source": [
        "a"
      ],
      "metadata": {
        "colab": {
          "base_uri": "https://localhost:8080/"
        },
        "id": "b9DB4bKiH8tt",
        "outputId": "9955cfa9-665b-48d9-ae52-77e30917dd79"
      },
      "execution_count": 20,
      "outputs": [
        {
          "output_type": "execute_result",
          "data": {
            "text/plain": [
              "[1, 2, 3, 'data science', 'physicswallah']"
            ]
          },
          "metadata": {},
          "execution_count": 20
        }
      ]
    },
    {
      "cell_type": "markdown",
      "source": [
        "3. compare and contrast mutable and immutable object in python with example.\n"
      ],
      "metadata": {
        "id": "szlF0-bTIv-s"
      }
    },
    {
      "cell_type": "markdown",
      "source": [
        "Ans.Mutable data can be changed after the creation but in immutable data we can't changed after the creation."
      ],
      "metadata": {
        "id": "_QFCko_-JJuu"
      }
    },
    {
      "cell_type": "code",
      "source": [
        "a = [1,2,3,\"school\",\"collage\",\"bike\"] #mutability"
      ],
      "metadata": {
        "id": "q1f4ax7wIDXg"
      },
      "execution_count": 21,
      "outputs": []
    },
    {
      "cell_type": "code",
      "source": [
        "a[4] =\"ayush\""
      ],
      "metadata": {
        "id": "qo3-iY4BKLC_"
      },
      "execution_count": 22,
      "outputs": []
    },
    {
      "cell_type": "code",
      "source": [
        "a"
      ],
      "metadata": {
        "colab": {
          "base_uri": "https://localhost:8080/"
        },
        "id": "6-AXwdXQKSDO",
        "outputId": "51d150fd-510d-49ac-9d47-44e4290e20af"
      },
      "execution_count": 23,
      "outputs": [
        {
          "output_type": "execute_result",
          "data": {
            "text/plain": [
              "[1, 2, 3, 'school', 'ayush', 'bike']"
            ]
          },
          "metadata": {},
          "execution_count": 23
        }
      ]
    },
    {
      "cell_type": "code",
      "source": [
        "a.remove(\"school\")"
      ],
      "metadata": {
        "id": "AKjIh9V9KS21"
      },
      "execution_count": 24,
      "outputs": []
    },
    {
      "cell_type": "code",
      "source": [
        "a"
      ],
      "metadata": {
        "colab": {
          "base_uri": "https://localhost:8080/"
        },
        "id": "RBCX16EhKbwG",
        "outputId": "52bf7251-8fa6-4ad7-ef7c-ecc4bb7dbd3b"
      },
      "execution_count": 25,
      "outputs": [
        {
          "output_type": "execute_result",
          "data": {
            "text/plain": [
              "[1, 2, 3, 'ayush', 'bike']"
            ]
          },
          "metadata": {},
          "execution_count": 25
        }
      ]
    },
    {
      "cell_type": "code",
      "source": [
        "a.append(\"piyush\")"
      ],
      "metadata": {
        "id": "Z34orWJ4Kcck"
      },
      "execution_count": 27,
      "outputs": []
    },
    {
      "cell_type": "code",
      "source": [
        "a"
      ],
      "metadata": {
        "colab": {
          "base_uri": "https://localhost:8080/"
        },
        "id": "OOZWaOMFKhKs",
        "outputId": "b9446b2f-7d4d-4ed9-85a1-ae9f9dfd6cfb"
      },
      "execution_count": 28,
      "outputs": [
        {
          "output_type": "execute_result",
          "data": {
            "text/plain": [
              "[1, 2, 3, 'ayush', 'bike', 'piyush']"
            ]
          },
          "metadata": {},
          "execution_count": 28
        }
      ]
    },
    {
      "cell_type": "code",
      "source": [
        "a.clear()"
      ],
      "metadata": {
        "id": "f5bF4IiQKlI_"
      },
      "execution_count": 29,
      "outputs": []
    },
    {
      "cell_type": "code",
      "source": [
        "a"
      ],
      "metadata": {
        "colab": {
          "base_uri": "https://localhost:8080/"
        },
        "id": "kNJuolTFKrWE",
        "outputId": "026c2016-9a21-4f5d-8da0-40a935e45ffe"
      },
      "execution_count": 30,
      "outputs": [
        {
          "output_type": "execute_result",
          "data": {
            "text/plain": [
              "[]"
            ]
          },
          "metadata": {},
          "execution_count": 30
        }
      ]
    },
    {
      "cell_type": "code",
      "source": [
        "del a"
      ],
      "metadata": {
        "id": "GI3VFzLdKsGD"
      },
      "execution_count": 31,
      "outputs": []
    },
    {
      "cell_type": "code",
      "source": [
        "a"
      ],
      "metadata": {
        "colab": {
          "base_uri": "https://localhost:8080/",
          "height": 141
        },
        "id": "C51SmNFJKt9A",
        "outputId": "f5d3eb2a-ca5b-4b56-8c91-6fcc5c851908"
      },
      "execution_count": 32,
      "outputs": [
        {
          "output_type": "error",
          "ename": "NameError",
          "evalue": "name 'a' is not defined",
          "traceback": [
            "\u001b[0;31m---------------------------------------------------------------------------\u001b[0m",
            "\u001b[0;31mNameError\u001b[0m                                 Traceback (most recent call last)",
            "\u001b[0;32m<ipython-input-32-3f786850e387>\u001b[0m in \u001b[0;36m<cell line: 1>\u001b[0;34m()\u001b[0m\n\u001b[0;32m----> 1\u001b[0;31m \u001b[0ma\u001b[0m\u001b[0;34m\u001b[0m\u001b[0;34m\u001b[0m\u001b[0m\n\u001b[0m",
            "\u001b[0;31mNameError\u001b[0m: name 'a' is not defined"
          ]
        }
      ]
    },
    {
      "cell_type": "markdown",
      "source": [
        "4.discuss different type of operators in python and provide the examples how they are used."
      ],
      "metadata": {
        "id": "_JD_VkMWWKvl"
      }
    },
    {
      "cell_type": "markdown",
      "source": [
        "Ans.there are many types of operator in python, like arithmetic operator, membership operators, logical operators, comparison operators\n",
        "  condition operators,assigmnet operators, bitwise opertars, identify opeartors\n",
        "\n"
      ],
      "metadata": {
        "id": "88C5WnlKWKck"
      }
    },
    {
      "cell_type": "code",
      "source": [
        "100-3 #arithmatic operators\n"
      ],
      "metadata": {
        "colab": {
          "base_uri": "https://localhost:8080/"
        },
        "id": "lEASQNEVKu-f",
        "outputId": "57fbd958-5b88-4476-cb0a-2200bd45f5a0"
      },
      "execution_count": 33,
      "outputs": [
        {
          "output_type": "execute_result",
          "data": {
            "text/plain": [
              "97"
            ]
          },
          "metadata": {},
          "execution_count": 33
        }
      ]
    },
    {
      "cell_type": "code",
      "source": [
        "10*23"
      ],
      "metadata": {
        "colab": {
          "base_uri": "https://localhost:8080/"
        },
        "id": "2Us4FdPvWtog",
        "outputId": "05a2146c-80aa-4c3c-eb35-366ceb35f7d3"
      },
      "execution_count": 34,
      "outputs": [
        {
          "output_type": "execute_result",
          "data": {
            "text/plain": [
              "230"
            ]
          },
          "metadata": {},
          "execution_count": 34
        }
      ]
    },
    {
      "cell_type": "code",
      "source": [
        "2**5 #module operators"
      ],
      "metadata": {
        "colab": {
          "base_uri": "https://localhost:8080/"
        },
        "id": "hGOpsF8WWy4u",
        "outputId": "bb7e234f-85cb-4090-9cb8-e6d6b4e4e6a8"
      },
      "execution_count": 35,
      "outputs": [
        {
          "output_type": "execute_result",
          "data": {
            "text/plain": [
              "32"
            ]
          },
          "metadata": {},
          "execution_count": 35
        }
      ]
    },
    {
      "cell_type": "code",
      "source": [
        "#camparison operators\n",
        "2 == 2"
      ],
      "metadata": {
        "colab": {
          "base_uri": "https://localhost:8080/"
        },
        "id": "lea1S7AHW15N",
        "outputId": "e75a31f9-5021-4fbf-8c6a-d9f4fb98cf32"
      },
      "execution_count": 36,
      "outputs": [
        {
          "output_type": "execute_result",
          "data": {
            "text/plain": [
              "True"
            ]
          },
          "metadata": {},
          "execution_count": 36
        }
      ]
    },
    {
      "cell_type": "code",
      "source": [
        "2==3"
      ],
      "metadata": {
        "colab": {
          "base_uri": "https://localhost:8080/"
        },
        "id": "zNmW44jcXE5i",
        "outputId": "cbee5210-bd9c-4cdc-eded-87ff2eb2573c"
      },
      "execution_count": 37,
      "outputs": [
        {
          "output_type": "execute_result",
          "data": {
            "text/plain": [
              "False"
            ]
          },
          "metadata": {},
          "execution_count": 37
        }
      ]
    },
    {
      "cell_type": "code",
      "source": [
        "#logical operators\n",
        "True and False"
      ],
      "metadata": {
        "colab": {
          "base_uri": "https://localhost:8080/"
        },
        "id": "RiaP4mU2XHGB",
        "outputId": "518703d8-d3a1-4d36-a947-0dda46c57d3f"
      },
      "execution_count": 76,
      "outputs": [
        {
          "output_type": "execute_result",
          "data": {
            "text/plain": [
              "False"
            ]
          },
          "metadata": {},
          "execution_count": 76
        }
      ]
    },
    {
      "cell_type": "code",
      "source": [
        "False or False"
      ],
      "metadata": {
        "colab": {
          "base_uri": "https://localhost:8080/"
        },
        "id": "RNH_uQTXXQ5d",
        "outputId": "19d5a857-e616-4608-a11f-d47548cea0ec"
      },
      "execution_count": 77,
      "outputs": [
        {
          "output_type": "execute_result",
          "data": {
            "text/plain": [
              "False"
            ]
          },
          "metadata": {},
          "execution_count": 77
        }
      ]
    },
    {
      "cell_type": "code",
      "source": [
        "True or True"
      ],
      "metadata": {
        "colab": {
          "base_uri": "https://localhost:8080/"
        },
        "id": "Pdebc7O4XUrX",
        "outputId": "84476454-d995-4248-c697-e5257dc71cff"
      },
      "execution_count": 78,
      "outputs": [
        {
          "output_type": "execute_result",
          "data": {
            "text/plain": [
              "True"
            ]
          },
          "metadata": {},
          "execution_count": 78
        }
      ]
    },
    {
      "cell_type": "code",
      "source": [
        "#membership operator\n",
        "b = \"education\"\n",
        "\"u\"in b"
      ],
      "metadata": {
        "colab": {
          "base_uri": "https://localhost:8080/"
        },
        "id": "z1HYFnGnXXlq",
        "outputId": "8eadc175-143f-4044-a1b2-a8c6e892ca80"
      },
      "execution_count": 41,
      "outputs": [
        {
          "output_type": "execute_result",
          "data": {
            "text/plain": [
              "True"
            ]
          },
          "metadata": {},
          "execution_count": 41
        }
      ]
    },
    {
      "cell_type": "code",
      "source": [
        "#identify operators\n",
        "a = 2\n",
        "b = a\n",
        "a is b"
      ],
      "metadata": {
        "colab": {
          "base_uri": "https://localhost:8080/"
        },
        "id": "7wRAexc-Xm9X",
        "outputId": "96a9aafa-e4eb-43d7-92a2-6c9abe268b1a"
      },
      "execution_count": 42,
      "outputs": [
        {
          "output_type": "execute_result",
          "data": {
            "text/plain": [
              "True"
            ]
          },
          "metadata": {},
          "execution_count": 42
        }
      ]
    },
    {
      "cell_type": "code",
      "source": [
        "#bitwise operators\n",
        "bin(10)"
      ],
      "metadata": {
        "colab": {
          "base_uri": "https://localhost:8080/",
          "height": 36
        },
        "id": "TJLQheT5X32I",
        "outputId": "6f39f7da-ce17-4104-e103-ff6c1e9c5393"
      },
      "execution_count": 43,
      "outputs": [
        {
          "output_type": "execute_result",
          "data": {
            "text/plain": [
              "'0b1010'"
            ],
            "application/vnd.google.colaboratory.intrinsic+json": {
              "type": "string"
            }
          },
          "metadata": {},
          "execution_count": 43
        }
      ]
    },
    {
      "cell_type": "markdown",
      "source": [
        "5.Explain the concept of type casting in python with examples.\n"
      ],
      "metadata": {
        "id": "zUy4LJNmYXTq"
      }
    },
    {
      "cell_type": "markdown",
      "source": [
        "Ans. The process of converting the value of a single data type into another data type is called type casting.\n",
        "Ex - int to float, float to int, int to string"
      ],
      "metadata": {
        "id": "TLtQ-4IhYW3K"
      }
    },
    {
      "cell_type": "code",
      "source": [
        "#type casting\n",
        "a = \"3\""
      ],
      "metadata": {
        "id": "VZgD9hbWX9K_"
      },
      "execution_count": 47,
      "outputs": []
    },
    {
      "cell_type": "code",
      "source": [
        "type(a)"
      ],
      "metadata": {
        "colab": {
          "base_uri": "https://localhost:8080/"
        },
        "id": "mEnph523X_so",
        "outputId": "d06d7348-cdcc-424c-cd00-89d9982162d6"
      },
      "execution_count": 48,
      "outputs": [
        {
          "output_type": "execute_result",
          "data": {
            "text/plain": [
              "str"
            ]
          },
          "metadata": {},
          "execution_count": 48
        }
      ]
    },
    {
      "cell_type": "code",
      "source": [
        "print(type(a))\n",
        "print(type(int(a)))\n",
        "print(type(float(a)))\n",
        "print(type(str(a)))"
      ],
      "metadata": {
        "colab": {
          "base_uri": "https://localhost:8080/"
        },
        "id": "iiRiwTsfZDqX",
        "outputId": "e2d73cac-a9cd-45f8-b5c9-8ed46de8c7f1"
      },
      "execution_count": 53,
      "outputs": [
        {
          "output_type": "stream",
          "name": "stdout",
          "text": [
            "<class 'str'>\n",
            "<class 'int'>\n",
            "<class 'float'>\n",
            "<class 'str'>\n"
          ]
        }
      ]
    },
    {
      "cell_type": "code",
      "source": [
        "a = \"20\""
      ],
      "metadata": {
        "id": "irMfIFBjZMJ5"
      },
      "execution_count": 54,
      "outputs": []
    },
    {
      "cell_type": "code",
      "source": [
        "a"
      ],
      "metadata": {
        "colab": {
          "base_uri": "https://localhost:8080/",
          "height": 36
        },
        "id": "wtniml8vZdn7",
        "outputId": "61732acb-bc0d-457d-e71f-bf8d07498d8a"
      },
      "execution_count": 55,
      "outputs": [
        {
          "output_type": "execute_result",
          "data": {
            "text/plain": [
              "'20'"
            ],
            "application/vnd.google.colaboratory.intrinsic+json": {
              "type": "string"
            }
          },
          "metadata": {},
          "execution_count": 55
        }
      ]
    },
    {
      "cell_type": "code",
      "source": [
        "int(a)\n"
      ],
      "metadata": {
        "colab": {
          "base_uri": "https://localhost:8080/"
        },
        "id": "S26hSaF8ZeOo",
        "outputId": "3199ff8e-df18-4508-bfc0-69130370a78c"
      },
      "execution_count": 56,
      "outputs": [
        {
          "output_type": "execute_result",
          "data": {
            "text/plain": [
              "20"
            ]
          },
          "metadata": {},
          "execution_count": 56
        }
      ]
    },
    {
      "cell_type": "code",
      "source": [
        "float(a)"
      ],
      "metadata": {
        "colab": {
          "base_uri": "https://localhost:8080/"
        },
        "id": "WvWE05aDZgN5",
        "outputId": "4acb8138-bc00-47fe-e57f-4f22922c1b12"
      },
      "execution_count": 57,
      "outputs": [
        {
          "output_type": "execute_result",
          "data": {
            "text/plain": [
              "20.0"
            ]
          },
          "metadata": {},
          "execution_count": 57
        }
      ]
    },
    {
      "cell_type": "code",
      "source": [
        "str(a)"
      ],
      "metadata": {
        "colab": {
          "base_uri": "https://localhost:8080/",
          "height": 36
        },
        "id": "c9Lg0qQ-Ziph",
        "outputId": "4607c1db-183e-4b9a-b289-8fc57e5b4614"
      },
      "execution_count": 58,
      "outputs": [
        {
          "output_type": "execute_result",
          "data": {
            "text/plain": [
              "'20'"
            ],
            "application/vnd.google.colaboratory.intrinsic+json": {
              "type": "string"
            }
          },
          "metadata": {},
          "execution_count": 58
        }
      ]
    },
    {
      "cell_type": "code",
      "source": [],
      "metadata": {
        "id": "L-gbQEundmZa"
      },
      "execution_count": 68,
      "outputs": []
    },
    {
      "cell_type": "code",
      "source": [
        "a = [1,2,3]\n",
        "type(a)"
      ],
      "metadata": {
        "colab": {
          "base_uri": "https://localhost:8080/"
        },
        "id": "cC05nJ0ZdmVv",
        "outputId": "03e4d1bb-9965-4946-874b-8ddb06153f07"
      },
      "execution_count": 69,
      "outputs": [
        {
          "output_type": "execute_result",
          "data": {
            "text/plain": [
              "list"
            ]
          },
          "metadata": {},
          "execution_count": 69
        }
      ]
    },
    {
      "cell_type": "code",
      "source": [
        "a = (1,2,3)\n",
        "type(a)"
      ],
      "metadata": {
        "colab": {
          "base_uri": "https://localhost:8080/"
        },
        "id": "Spm_kke-dmSO",
        "outputId": "bf76e1fa-9ece-404b-e545-d48fad201f44"
      },
      "execution_count": 70,
      "outputs": [
        {
          "output_type": "execute_result",
          "data": {
            "text/plain": [
              "tuple"
            ]
          },
          "metadata": {},
          "execution_count": 70
        }
      ]
    },
    {
      "cell_type": "code",
      "source": [
        "a = {1,2,3}\n",
        "type(a)"
      ],
      "metadata": {
        "colab": {
          "base_uri": "https://localhost:8080/"
        },
        "id": "2m5tPCjXdmPI",
        "outputId": "eb58fe1b-3e22-41db-8e43-625eea2409f5"
      },
      "execution_count": 71,
      "outputs": [
        {
          "output_type": "execute_result",
          "data": {
            "text/plain": [
              "set"
            ]
          },
          "metadata": {},
          "execution_count": 71
        }
      ]
    },
    {
      "cell_type": "code",
      "source": [
        "a = {}\n",
        "type(a)"
      ],
      "metadata": {
        "colab": {
          "base_uri": "https://localhost:8080/"
        },
        "id": "5zXXGQCQdmB0",
        "outputId": "754e645d-568f-40c4-994c-55184451e796"
      },
      "execution_count": 75,
      "outputs": [
        {
          "output_type": "execute_result",
          "data": {
            "text/plain": [
              "dict"
            ]
          },
          "metadata": {},
          "execution_count": 75
        }
      ]
    },
    {
      "cell_type": "code",
      "source": [
        "a = {\"key_couse\": \"data science\", \"duration\":200}"
      ],
      "metadata": {
        "id": "vvrkk8n7gB57"
      },
      "execution_count": 79,
      "outputs": []
    },
    {
      "cell_type": "code",
      "source": [
        "a"
      ],
      "metadata": {
        "colab": {
          "base_uri": "https://localhost:8080/"
        },
        "id": "mzXIURe0gB2X",
        "outputId": "66e56b57-e12e-4514-eb99-edaa7953bb71"
      },
      "execution_count": 80,
      "outputs": [
        {
          "output_type": "execute_result",
          "data": {
            "text/plain": [
              "{'key_couse': 'data science', 'duration': 200}"
            ]
          },
          "metadata": {},
          "execution_count": 80
        }
      ]
    },
    {
      "cell_type": "code",
      "source": [],
      "metadata": {
        "id": "_86YhGwggByq"
      },
      "execution_count": null,
      "outputs": []
    },
    {
      "cell_type": "code",
      "source": [],
      "metadata": {
        "id": "Lh-rvgBygBvN"
      },
      "execution_count": null,
      "outputs": []
    },
    {
      "cell_type": "markdown",
      "source": [
        "6.How do conditional statement work in python? illustrate with example."
      ],
      "metadata": {
        "id": "T6hgkQPwZptS"
      }
    },
    {
      "cell_type": "markdown",
      "source": [
        "Ans.If the condition is true the code of block intended below the if statement will be excuted, if the condition is false the block of code is skipped."
      ],
      "metadata": {
        "id": "kfqYARmsZpVu"
      }
    },
    {
      "cell_type": "code",
      "source": [
        "age = 17\n",
        "if age> 18:\n",
        "  print(\"you can drink alcohal\")\n",
        "else:\n",
        "  print(\" you don't drink\")\n",
        "\n"
      ],
      "metadata": {
        "colab": {
          "base_uri": "https://localhost:8080/"
        },
        "id": "NfOeP1M-ZkOV",
        "outputId": "dd6c394a-2df4-41c5-dcdc-53b619dfa0bf"
      },
      "execution_count": 59,
      "outputs": [
        {
          "output_type": "stream",
          "name": "stdout",
          "text": [
            " you don't drink\n"
          ]
        }
      ]
    },
    {
      "cell_type": "code",
      "source": [
        "a = 100\n",
        "if a > 200:\n",
        "  print(\"a is greater than 200\")\n",
        "elif a < 200:\n",
        "  print(\"a less than 200\")\n",
        "else:\n",
        "  print(\"nothing\")\n"
      ],
      "metadata": {
        "colab": {
          "base_uri": "https://localhost:8080/"
        },
        "id": "ITIQmA08aZzs",
        "outputId": "1e8a4e12-8f94-4524-8f65-6a8d8aa2bdc0"
      },
      "execution_count": 60,
      "outputs": [
        {
          "output_type": "stream",
          "name": "stdout",
          "text": [
            "a less than 200\n"
          ]
        }
      ]
    },
    {
      "cell_type": "code",
      "source": [
        "a = 100\n",
        "if a > 20:\n",
        "  print(\"a is greater than 200\")\n",
        "elif a < 200:\n",
        "  print(\"a less than 200\")\n",
        "else:\n",
        "  print(\"nothing\")"
      ],
      "metadata": {
        "colab": {
          "base_uri": "https://localhost:8080/"
        },
        "id": "Fze0zKs0bDKE",
        "outputId": "f87697b3-698f-49bb-9c46-e7350bc2a48b"
      },
      "execution_count": 65,
      "outputs": [
        {
          "output_type": "stream",
          "name": "stdout",
          "text": [
            "a is greater than 200\n"
          ]
        }
      ]
    },
    {
      "cell_type": "code",
      "source": [
        "a = 5\n",
        "if a > 5:\n",
        "  print(\"a is greater than 200\")\n",
        "elif a < 5:\n",
        "  print(\"a less than 200\")\n",
        "else:\n",
        "  print(\"nothing\")"
      ],
      "metadata": {
        "colab": {
          "base_uri": "https://localhost:8080/"
        },
        "id": "2QSzk0jXbJYS",
        "outputId": "a48896f5-4bda-4c5b-fe96-5bf3fab80232"
      },
      "execution_count": 67,
      "outputs": [
        {
          "output_type": "stream",
          "name": "stdout",
          "text": [
            "nothing\n"
          ]
        }
      ]
    },
    {
      "cell_type": "markdown",
      "source": [
        "7.Discribe the different type of loops in python and their use cases with examples."
      ],
      "metadata": {
        "id": "jPyhWYq9biTP"
      }
    },
    {
      "cell_type": "markdown",
      "source": [
        "Ans.In python loops are employed to reapetly action code untill a specific condition is fulfilled.There are two loop\n",
        "a. while loop - while loop for the executing the code untill specific condition become false.\n",
        "b. For loop -for loop using to iterate the sequence of elements"
      ],
      "metadata": {
        "id": "FZINDxoZbhur"
      }
    },
    {
      "cell_type": "code",
      "source": [
        "i=1\n",
        "while  i <= 10:\n",
        "    print(i,\"welcome to my world\")\n",
        "    i= i+1\n",
        "else:\n",
        "  print(\"continue\")"
      ],
      "metadata": {
        "colab": {
          "base_uri": "https://localhost:8080/"
        },
        "id": "bG3-8RqhbZF-",
        "outputId": "e3f8fef3-db59-40e5-8b8a-a9ba557c4293"
      },
      "execution_count": 83,
      "outputs": [
        {
          "output_type": "stream",
          "name": "stdout",
          "text": [
            "1 welcome to my world\n",
            "2 welcome to my world\n",
            "3 welcome to my world\n",
            "4 welcome to my world\n",
            "5 welcome to my world\n",
            "6 welcome to my world\n",
            "7 welcome to my world\n",
            "8 welcome to my world\n",
            "9 welcome to my world\n",
            "10 welcome to my world\n",
            "continue\n"
          ]
        }
      ]
    },
    {
      "cell_type": "code",
      "source": [
        "b = [1, 2, 3, 4, \"auyush\",\"piyush\"]\n",
        "for i in b:\n",
        "  print(i)"
      ],
      "metadata": {
        "colab": {
          "base_uri": "https://localhost:8080/"
        },
        "id": "3PJP-pJwhWtT",
        "outputId": "0bf5c12e-73a1-49ca-8831-574d92bbce9b"
      },
      "execution_count": 84,
      "outputs": [
        {
          "output_type": "stream",
          "name": "stdout",
          "text": [
            "1\n",
            "2\n",
            "3\n",
            "4\n",
            "auyush\n",
            "piyush\n"
          ]
        }
      ]
    },
    {
      "cell_type": "code",
      "source": [
        "b = [1, 2, 3, 4, \"auyush\",\"piyush\"]\n",
        "for i in b:\n",
        "  print(i)\n",
        "\n",
        ""
      ],
      "metadata": {
        "colab": {
          "base_uri": "https://localhost:8080/"
        },
        "id": "I82xq8h6hqOr",
        "outputId": "0ca105dc-7454-4773-cdb9-63dbca3d9d7c"
      },
      "execution_count": 88,
      "outputs": [
        {
          "output_type": "stream",
          "name": "stdout",
          "text": [
            "1\n",
            "2\n",
            "3\n",
            "4\n",
            "auyush\n",
            "piyush\n"
          ]
        }
      ]
    },
    {
      "cell_type": "code",
      "source": [],
      "metadata": {
        "id": "LH7qWa1hh5ki"
      },
      "execution_count": null,
      "outputs": []
    }
  ]
}