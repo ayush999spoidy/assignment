{
  "nbformat": 4,
  "nbformat_minor": 0,
  "metadata": {
    "colab": {
      "provenance": []
    },
    "kernelspec": {
      "name": "python3",
      "display_name": "Python 3"
    },
    "language_info": {
      "name": "python"
    }
  },
  "cells": [
    {
      "cell_type": "markdown",
      "source": [
        "1.What are the five key concepts of Object-Oriented Programming\n",
        "\n"
      ],
      "metadata": {
        "id": "K-n5aY_SuPpK"
      }
    },
    {
      "cell_type": "markdown",
      "source": [
        "Ans. It is a programming approach based on class objects. in simple language OOP is the method to represent the real world entity in programmBoing.There are five types.\n",
        "\n",
        "1.class -- class is a blueprint/templetes for an object like real world entity has soem properties or behaviour which is representd by class variable and methods in programming.\n",
        "\n",
        "2.Object -- as we know class is a logical entity while an object is a pysical and real entity that works on class data.\n",
        "\n",
        "3. Inheritance -- when we define a class that inherites all the property of other class called inheritance.\n",
        "\n",
        "4.-- Encapsulation -- python provide access to all the variables and method in globally by using encapsulation we can restrict the variables and method access globbaly by making its private or protected.\n",
        "\n",
        "5.--Polymorphism -- means ability to take various forms (same object having differnt behaviour)"
      ],
      "metadata": {
        "id": "UjIb_byEuPbm"
      }
    },
    {
      "cell_type": "markdown",
      "source": [
        "2.Write a Python class for a Car with attributes for make, model, and year. Include a method to display the car's information.\n"
      ],
      "metadata": {
        "id": "-_YC3GIwydt9"
      }
    },
    {
      "cell_type": "markdown",
      "source": [],
      "metadata": {
        "id": "8WaV5Avlydgm"
      }
    },
    {
      "cell_type": "code",
      "execution_count": 9,
      "metadata": {
        "id": "48GMstamuF1v"
      },
      "outputs": [],
      "source": [
        "class Car:\n",
        "    def __init__(self, make, model, year):\n",
        "        self.make = make\n",
        "        self.model = model\n",
        "        self.year = year\n",
        "\n",
        "    def dis_info(self):\n",
        "        print(f\"Car_info: {self.year} {self.make} {self.model}\")\n",
        "\n"
      ]
    },
    {
      "cell_type": "code",
      "source": [
        "a = Car(2020,\"acrry\",\"lamborghini\")"
      ],
      "metadata": {
        "id": "KxyGlXxszOGE"
      },
      "execution_count": 10,
      "outputs": []
    },
    {
      "cell_type": "code",
      "source": [
        "a.make"
      ],
      "metadata": {
        "colab": {
          "base_uri": "https://localhost:8080/"
        },
        "id": "GLJAw0eYzOCb",
        "outputId": "9d9cdc12-a7f9-4514-c686-eced71a02343"
      },
      "execution_count": 11,
      "outputs": [
        {
          "output_type": "execute_result",
          "data": {
            "text/plain": [
              "2020"
            ]
          },
          "metadata": {},
          "execution_count": 11
        }
      ]
    },
    {
      "cell_type": "code",
      "source": [
        "a.model"
      ],
      "metadata": {
        "colab": {
          "base_uri": "https://localhost:8080/",
          "height": 36
        },
        "id": "HfZEJ1gYzN_Z",
        "outputId": "8551699c-5f4a-4e80-af08-d0b6b7be3496"
      },
      "execution_count": 7,
      "outputs": [
        {
          "output_type": "execute_result",
          "data": {
            "text/plain": [
              "'acrry'"
            ],
            "application/vnd.google.colaboratory.intrinsic+json": {
              "type": "string"
            }
          },
          "metadata": {},
          "execution_count": 7
        }
      ]
    },
    {
      "cell_type": "code",
      "source": [
        "a.year"
      ],
      "metadata": {
        "colab": {
          "base_uri": "https://localhost:8080/",
          "height": 36
        },
        "id": "dR1c5oM8zpVT",
        "outputId": "f2bc8349-6c0e-4fb6-81ef-b1c474698b68"
      },
      "execution_count": 8,
      "outputs": [
        {
          "output_type": "execute_result",
          "data": {
            "text/plain": [
              "'lamborghini'"
            ],
            "application/vnd.google.colaboratory.intrinsic+json": {
              "type": "string"
            }
          },
          "metadata": {},
          "execution_count": 8
        }
      ]
    },
    {
      "cell_type": "markdown",
      "source": [
        "3.Explain the difference between instance methods and class methods. Provide an example of each."
      ],
      "metadata": {
        "id": "e36hatce0bWI"
      }
    },
    {
      "cell_type": "markdown",
      "source": [
        "Ans.An instance method is used to access and modify instance attributes as well as class attributes.They take self as the first parameter.\n",
        "\n",
        "2. class method can be used to access or modify class-level attributes.They are marked with the @classmethod decorator.\n"
      ],
      "metadata": {
        "id": "uo3A2I3-0bHT"
      }
    },
    {
      "cell_type": "code",
      "source": [],
      "metadata": {
        "id": "ykjwbR1X2Emq"
      },
      "execution_count": null,
      "outputs": []
    },
    {
      "cell_type": "code",
      "execution_count": 25,
      "metadata": {
        "id": "px61kqT12I9z"
      },
      "outputs": [],
      "source": [
        "class Car:\n",
        "\n",
        "    car_count = 0\n",
        "\n",
        "    def __init__(self, make, model, year):\n",
        "        self.make = make\n",
        "        self.model = model\n",
        "        self.year = year\n",
        "        Car.car_count+=1\n",
        "#instance method\n",
        "\n",
        "    def dis_info(self):\n",
        "        print(f\"Car_info: {self.year} {self.make} {self.model}\")\n",
        "\n",
        "#class method\n",
        "\n",
        "    @classmethod\n",
        "    def total_cars(cls):\n",
        "      print(f\"total numbrs of cars:{cls.car_count}\")"
      ]
    },
    {
      "cell_type": "code",
      "source": [
        "a = Car(\"honda\",\"lide\",2024)"
      ],
      "metadata": {
        "id": "iT2ttiXy2EaB"
      },
      "execution_count": 26,
      "outputs": []
    },
    {
      "cell_type": "code",
      "source": [
        "a.dis_info()  # instance method"
      ],
      "metadata": {
        "colab": {
          "base_uri": "https://localhost:8080/"
        },
        "id": "dq7bDRF129n3",
        "outputId": "edd3b15b-0cf1-40b5-8361-ec83002b38c7"
      },
      "execution_count": 27,
      "outputs": [
        {
          "output_type": "stream",
          "name": "stdout",
          "text": [
            "Car_info: 2024 honda lide\n"
          ]
        }
      ]
    },
    {
      "cell_type": "code",
      "source": [
        "Car.total_cars() #class method"
      ],
      "metadata": {
        "colab": {
          "base_uri": "https://localhost:8080/"
        },
        "id": "Y9kniv8B3NJ7",
        "outputId": "d03e0592-1157-4865-b66e-02a2e3fade86"
      },
      "execution_count": 28,
      "outputs": [
        {
          "output_type": "stream",
          "name": "stdout",
          "text": [
            "total numbrs of cars:1\n"
          ]
        }
      ]
    },
    {
      "cell_type": "markdown",
      "source": [
        "4.How does Python implement method overloading? Give an example\n"
      ],
      "metadata": {
        "id": "9IG60Njn4tA7"
      }
    },
    {
      "cell_type": "markdown",
      "source": [
        "Ans.This means that you can define a single method that can handle different numbers or types of arguments by checking the input within the method itself."
      ],
      "metadata": {
        "id": "--oUjz2-4suL"
      }
    },
    {
      "cell_type": "markdown",
      "source": [],
      "metadata": {
        "id": "mzZayMj-4sq1"
      }
    },
    {
      "cell_type": "code",
      "source": [
        "class Math:\n",
        "    def add(self, a, b=0):\n",
        "      if b == 0:\n",
        "        return a\n",
        "\n",
        "      else:\n",
        "            return a + b"
      ],
      "metadata": {
        "id": "ajnBWDV63NGS"
      },
      "execution_count": 40,
      "outputs": []
    },
    {
      "cell_type": "code",
      "source": [
        "print(Math.add(5, 10))"
      ],
      "metadata": {
        "colab": {
          "base_uri": "https://localhost:8080/"
        },
        "id": "ptu3npkc3NDQ",
        "outputId": "ed09efb8-c61e-41cd-efcf-124252ce304e"
      },
      "execution_count": 41,
      "outputs": [
        {
          "output_type": "stream",
          "name": "stdout",
          "text": [
            "10\n"
          ]
        }
      ]
    },
    {
      "cell_type": "code",
      "source": [
        "class Math:\n",
        "    def add(self, a, b=4):\n",
        "      if b == 0:\n",
        "        return a\n",
        "\n",
        "      if b !=0:\n",
        "        return b\n",
        "\n",
        "      else:\n",
        "            return a + b"
      ],
      "metadata": {
        "id": "mBiIGE453NAH"
      },
      "execution_count": 44,
      "outputs": []
    },
    {
      "cell_type": "code",
      "source": [
        "print(Math.add(5,11))"
      ],
      "metadata": {
        "colab": {
          "base_uri": "https://localhost:8080/"
        },
        "id": "4JjNP7Ym3M9C",
        "outputId": "a2792996-3f45-4d69-e6fd-b304948d0093"
      },
      "execution_count": 45,
      "outputs": [
        {
          "output_type": "stream",
          "name": "stdout",
          "text": [
            "4\n"
          ]
        }
      ]
    },
    {
      "cell_type": "markdown",
      "source": [
        "5.What are the three types of access modifiers in Python? How are they denoted?"
      ],
      "metadata": {
        "id": "WucnDO0juN6Z"
      }
    },
    {
      "cell_type": "markdown",
      "source": [
        "Ans.There are the three types of access modifier in python.\n",
        "\n",
        "1. Public -- no underscore accessible from anywhere and anybody.\n",
        "2. Protected -- Single underscore accessible in subclass and from the class istself.\n",
        "3. private --- with the double underscore accessibly only within the class."
      ],
      "metadata": {
        "id": "BzDROhz3uOXA"
      }
    },
    {
      "cell_type": "code",
      "source": [
        "#public\n",
        "class Class:\n",
        "    def __init__(self):\n",
        "        self.public = \"everybody\"\n",
        "\n",
        "    def public(self):\n",
        "        print(\"This is a public method\")"
      ],
      "metadata": {
        "id": "_ETm-xdh90xV"
      },
      "execution_count": 46,
      "outputs": []
    },
    {
      "cell_type": "code",
      "source": [
        "q =Class()"
      ],
      "metadata": {
        "id": "LbTOYv_9-R3X"
      },
      "execution_count": 48,
      "outputs": []
    },
    {
      "cell_type": "code",
      "source": [
        "q.public"
      ],
      "metadata": {
        "colab": {
          "base_uri": "https://localhost:8080/",
          "height": 36
        },
        "id": "YMakmB6N-U0l",
        "outputId": "4d5dbc89-edd7-434b-fe59-61118df411fd"
      },
      "execution_count": 49,
      "outputs": [
        {
          "output_type": "execute_result",
          "data": {
            "text/plain": [
              "'everybody'"
            ],
            "application/vnd.google.colaboratory.intrinsic+json": {
              "type": "string"
            }
          },
          "metadata": {},
          "execution_count": 49
        }
      ]
    },
    {
      "cell_type": "code",
      "source": [
        "#protected\n",
        "class Class:\n",
        "    def __init__(self):\n",
        "        self._protect = \"protector\"\n",
        "\n",
        "    def _protect(self):\n",
        "        print(\"This is a protect method\")\n",
        "\n",
        "class SubClass(Class):\n",
        "   def access_protect(self):\n",
        "    print(self._protect)"
      ],
      "metadata": {
        "id": "ci6m21O3-YsQ"
      },
      "execution_count": 81,
      "outputs": []
    },
    {
      "cell_type": "code",
      "source": [
        "a = Class()"
      ],
      "metadata": {
        "id": "4fz0NNCr_Apk"
      },
      "execution_count": 82,
      "outputs": []
    },
    {
      "cell_type": "code",
      "source": [
        "print(a._protect)"
      ],
      "metadata": {
        "colab": {
          "base_uri": "https://localhost:8080/"
        },
        "id": "R44UHLKR_Eq6",
        "outputId": "e20c4330-7f01-41d8-8da5-3a77adf044b0"
      },
      "execution_count": 85,
      "outputs": [
        {
          "output_type": "stream",
          "name": "stdout",
          "text": [
            "protector\n"
          ]
        }
      ]
    },
    {
      "cell_type": "code",
      "source": [
        "a._protect"
      ],
      "metadata": {
        "colab": {
          "base_uri": "https://localhost:8080/",
          "height": 36
        },
        "id": "8LLmi-FL_GSP",
        "outputId": "a0f2ff77-a7b7-483b-a74c-fb07959fcc0c"
      },
      "execution_count": 86,
      "outputs": [
        {
          "output_type": "execute_result",
          "data": {
            "text/plain": [
              "'protector'"
            ],
            "application/vnd.google.colaboratory.intrinsic+json": {
              "type": "string"
            }
          },
          "metadata": {},
          "execution_count": 86
        }
      ]
    },
    {
      "cell_type": "code",
      "source": [
        "#private\n",
        "class student:\n",
        "  def __init__(self,name,degree):\n",
        "    self.name = name\n",
        "    self.__degree = degree\n",
        "\n",
        "  def show(self):\n",
        "    print(\"name\",self.name,\"degree\",self.__degree)\n",
        "\n",
        "\n",
        "  def __private_method(self):\n",
        "    print(\"this is the private method\")\n",
        "\n",
        "  def access_private_methode(self):\n",
        "    self.__private_method()"
      ],
      "metadata": {
        "id": "NC5Ya04rADjb"
      },
      "execution_count": 102,
      "outputs": []
    },
    {
      "cell_type": "code",
      "source": [
        "a = student(\"ayush\",\"masters\")\n",
        "a.access_private_methode()"
      ],
      "metadata": {
        "colab": {
          "base_uri": "https://localhost:8080/"
        },
        "id": "lWV20v2KAiXg",
        "outputId": "efde2d0a-12b1-4c8a-e42f-35603dd5200f"
      },
      "execution_count": 107,
      "outputs": [
        {
          "output_type": "stream",
          "name": "stdout",
          "text": [
            "this is the private method\n"
          ]
        }
      ]
    },
    {
      "cell_type": "markdown",
      "source": [
        "6.Describe the five types of inheritance in Python. Provide a simple example of multiple inheritance."
      ],
      "metadata": {
        "id": "r3Uloq0CFbKj"
      }
    },
    {
      "cell_type": "markdown",
      "source": [
        "Ans.there are five type of inheritance in Python.\n",
        "1.Single Inheritance\n",
        "2.Multiple Inheritance\n",
        "3.Multilevel Inheritance\n",
        "4.Hierarchical Inheritance\n",
        "5.Hybrid Inheritance"
      ],
      "metadata": {
        "id": "6lM8Q7ztFa2W"
      }
    },
    {
      "cell_type": "code",
      "source": [
        "class parent1:\n",
        "  def method1(self):\n",
        "    print(\"this is the 1st method\")\n",
        "\n",
        "class parent2:\n",
        "  def method2(self):\n",
        "    print(\"this is the  method\")\n",
        "\n",
        "class childclass(parent1,parent2):\n",
        "  def childclass(self):\n",
        "    print(\"this is the child class\")"
      ],
      "metadata": {
        "id": "5SpwZnwEAlPj"
      },
      "execution_count": 110,
      "outputs": []
    },
    {
      "cell_type": "code",
      "source": [
        "a = childclass()"
      ],
      "metadata": {
        "id": "zUIb5mBGAv1F"
      },
      "execution_count": 111,
      "outputs": []
    },
    {
      "cell_type": "code",
      "source": [
        "a.method1()"
      ],
      "metadata": {
        "colab": {
          "base_uri": "https://localhost:8080/"
        },
        "id": "ZI76pdkoHD1X",
        "outputId": "9b5ab287-d85e-4cea-c1d1-88bb0040dc8c"
      },
      "execution_count": 112,
      "outputs": [
        {
          "output_type": "stream",
          "name": "stdout",
          "text": [
            "this is the 1st method\n"
          ]
        }
      ]
    },
    {
      "cell_type": "code",
      "source": [
        "a.method2()"
      ],
      "metadata": {
        "colab": {
          "base_uri": "https://localhost:8080/"
        },
        "id": "UGO4B9TVHGij",
        "outputId": "c4c2bf8e-b688-413f-9e35-e3a5d727c476"
      },
      "execution_count": 114,
      "outputs": [
        {
          "output_type": "stream",
          "name": "stdout",
          "text": [
            "this is the  method\n"
          ]
        }
      ]
    },
    {
      "cell_type": "code",
      "source": [
        "a.childclass()"
      ],
      "metadata": {
        "colab": {
          "base_uri": "https://localhost:8080/"
        },
        "id": "xuO2pIs2HJBQ",
        "outputId": "546cff85-352e-4137-9bc7-a7472eb52d83"
      },
      "execution_count": 116,
      "outputs": [
        {
          "output_type": "stream",
          "name": "stdout",
          "text": [
            "this is the child class\n"
          ]
        }
      ]
    },
    {
      "cell_type": "markdown",
      "source": [
        "7. What is the Method Resolution Order (MRO) in Python? How can you retrieve it programmatically?\n",
        "\n"
      ],
      "metadata": {
        "id": "u_V8BkVaHrIL"
      }
    },
    {
      "cell_type": "markdown",
      "source": [
        "Ans.The MRO ensures that Python handles multiple inheritance properly and avoids ambiguity, such as the \"diamond problem\""
      ],
      "metadata": {
        "id": "_qcFKaJ4Hq7E"
      }
    },
    {
      "cell_type": "code",
      "source": [
        "class A:\n",
        "    def method(self):\n",
        "        print(\"Method in A\")\n",
        "\n",
        "class B(A):\n",
        "    def method(self):\n",
        "        print(\"Method in B\")\n",
        "\n",
        "class C(A):\n",
        "    def method(self):\n",
        "        print(\"Method in C\")\n",
        "\n",
        "class D(B, C):\n",
        "  pass\n",
        ""
      ],
      "metadata": {
        "id": "cD0R_FFQHNx3"
      },
      "execution_count": 117,
      "outputs": []
    },
    {
      "cell_type": "code",
      "source": [
        "a =D()"
      ],
      "metadata": {
        "id": "3nAm4gUNIhhq"
      },
      "execution_count": 118,
      "outputs": []
    },
    {
      "cell_type": "code",
      "source": [
        "a.method()"
      ],
      "metadata": {
        "colab": {
          "base_uri": "https://localhost:8080/"
        },
        "id": "a-5XxsQrIm7w",
        "outputId": "14d7d984-e8ab-4618-dbe2-d96b658f338b"
      },
      "execution_count": 119,
      "outputs": [
        {
          "output_type": "stream",
          "name": "stdout",
          "text": [
            "Method in B\n"
          ]
        }
      ]
    },
    {
      "cell_type": "markdown",
      "source": [
        "8.Create an abstract base class Shape with an abstract method area(). Then create two subclasses Circle and Rectangle that implement the area() method.\n",
        "\n"
      ],
      "metadata": {
        "id": "w4Pr98CGJOdZ"
      }
    },
    {
      "cell_type": "markdown",
      "source": [
        "Ans."
      ],
      "metadata": {
        "id": "nJICVWACJOZx"
      }
    },
    {
      "cell_type": "code",
      "source": [
        "from abc import ABC, abstractmethod\n",
        "import math\n",
        "\n",
        "# Abstract base class\n",
        "class Shape(ABC):\n",
        "    @abstractmethod\n",
        "    def area(self):\n",
        "        pass\n",
        "\n",
        "# Subclass implementing area for a circle\n",
        "class Circle(Shape):\n",
        "    def __init__(self, radius):\n",
        "        self.radius = radius\n",
        "\n",
        "    def area(self):\n",
        "        return math.pi * self.radius ** 2\n",
        "\n",
        "# Subclass implementing area for a rectangle\n",
        "class Rectangle(Shape):\n",
        "    def __init__(self, width, height):\n",
        "        self.width = width\n",
        "        self.height = height\n",
        "    def area(self):\n",
        "        return self.width * self.height"
      ],
      "metadata": {
        "id": "WLvvPLq5IqDB"
      },
      "execution_count": 121,
      "outputs": []
    },
    {
      "cell_type": "code",
      "source": [
        "circle = Circle(10)\n",
        "print(f\"Area of the circle: {circle.area()}\")\n"
      ],
      "metadata": {
        "colab": {
          "base_uri": "https://localhost:8080/"
        },
        "id": "A1xop5eRJQQm",
        "outputId": "38542905-e1fd-43c2-dc47-a74205c716b9"
      },
      "execution_count": 124,
      "outputs": [
        {
          "output_type": "stream",
          "name": "stdout",
          "text": [
            "Area of the circle: 314.1592653589793\n"
          ]
        }
      ]
    },
    {
      "cell_type": "code",
      "source": [
        "rectangle = Rectangle(5, 8)\n",
        "print(f\"Area of the rectangle: {rectangle.area()}\")"
      ],
      "metadata": {
        "colab": {
          "base_uri": "https://localhost:8080/"
        },
        "id": "eEgXCtv4JrCQ",
        "outputId": "e8566f94-784c-4d41-c79d-95720fc49ec5"
      },
      "execution_count": 126,
      "outputs": [
        {
          "output_type": "stream",
          "name": "stdout",
          "text": [
            "Area of the rectangle: 40\n"
          ]
        }
      ]
    },
    {
      "cell_type": "code",
      "source": [],
      "metadata": {
        "id": "dXMN9XgoJ5-w"
      },
      "execution_count": null,
      "outputs": []
    },
    {
      "cell_type": "markdown",
      "source": [
        "9.Demonstrate polymorphism by creating a function that can work with different shape objects to calculate and print their areas.\n"
      ],
      "metadata": {
        "id": "2McswuMGKZer"
      }
    },
    {
      "cell_type": "markdown",
      "source": [
        "Ans.Polymorphism allows objects of different classes to be treated as objects of a  superclass.  polymarphism mean  the same function can be used for different object types. We can demonstrate thsi using a function that takes any shape like Circle or Rectangl and calculetes its area using their area methods, even though the implementation differs for each shape."
      ],
      "metadata": {
        "id": "JIuQtACIKZP-"
      }
    },
    {
      "cell_type": "code",
      "source": [
        "from abc import ABC, abstractmethod\n",
        "import math\n",
        "\n",
        "# Abstract base class\n",
        "class Shape(ABC):\n",
        "    @abstractmethod\n",
        "    def area(self):\n",
        "        pass\n",
        "\n",
        "# Subclass for Circle\n",
        "class Circle(Shape):\n",
        "    def __init__(self, radius):\n",
        "        self.radius = radius\n",
        "\n",
        "    def area(self):\n",
        "        return math.pi * self.radius ** 2\n",
        "\n",
        "# Subclass for Rectangle\n",
        "class Rectangle(Shape):\n",
        "    def __init__(self, width, height):\n",
        "        self.width = width\n",
        "        self.height = height\n",
        "\n",
        "    def area(self):\n",
        "        return self.width * self.height\n",
        "\n",
        "# Subclass for Triangle (for demonstration)\n",
        "class Triangle(Shape):\n",
        "    def __init__(self, base, height):\n",
        "        self.base = base\n",
        "        self.height = height\n",
        "\n",
        "    def area(self):\n",
        "        return 0.5 * self.base * self.height\n",
        "\n",
        "# Function that demonstrates polymorphism\n",
        "def print_area(shape):\n",
        "    print(f\"The area is: {shape.area()}\")\n"
      ],
      "metadata": {
        "id": "w3rs8jPGLdfY"
      },
      "execution_count": 127,
      "outputs": []
    },
    {
      "cell_type": "code",
      "source": [
        "circle = Circle(5)\n",
        "rectangle = Rectangle(5, 6)\n",
        "triangle = Triangle(2, 4)"
      ],
      "metadata": {
        "id": "uk0eyi0HLeVl"
      },
      "execution_count": 128,
      "outputs": []
    },
    {
      "cell_type": "code",
      "source": [
        "print_area(circle)"
      ],
      "metadata": {
        "colab": {
          "base_uri": "https://localhost:8080/"
        },
        "id": "VUYT1fjtLeKq",
        "outputId": "9c9f92d0-72a5-4d96-b2f0-15bde2226cd1"
      },
      "execution_count": 131,
      "outputs": [
        {
          "output_type": "stream",
          "name": "stdout",
          "text": [
            "The area is: 78.53981633974483\n"
          ]
        }
      ]
    },
    {
      "cell_type": "code",
      "source": [
        "print_area(rectangle)"
      ],
      "metadata": {
        "colab": {
          "base_uri": "https://localhost:8080/"
        },
        "id": "dYKJcAUuMw2R",
        "outputId": "76e0aa0d-d8bb-4000-a242-702430fac7a2"
      },
      "execution_count": 132,
      "outputs": [
        {
          "output_type": "stream",
          "name": "stdout",
          "text": [
            "The area is: 30\n"
          ]
        }
      ]
    },
    {
      "cell_type": "code",
      "source": [
        "print_area(triangle)"
      ],
      "metadata": {
        "colab": {
          "base_uri": "https://localhost:8080/"
        },
        "id": "9Esqh2spM5vv",
        "outputId": "ca443e8d-fb25-421a-edfd-32c44e2c3681"
      },
      "execution_count": 133,
      "outputs": [
        {
          "output_type": "stream",
          "name": "stdout",
          "text": [
            "The area is: 4.0\n"
          ]
        }
      ]
    },
    {
      "cell_type": "markdown",
      "source": [
        "10.Implement encapsulation in a BankAccount class with private attributes for balance and account_number. Include methods for deposit, withdrawal, and balance inquiry.\n",
        "\n"
      ],
      "metadata": {
        "id": "6fUy57qhNOXq"
      }
    },
    {
      "cell_type": "markdown",
      "source": [
        "Ans.Encapsulation in Python is implemented by using private attributes and public methods to interact with those attributes. Private attributes are denoted by a double underscore (__) at the beginning of the variable name"
      ],
      "metadata": {
        "id": "RXSpqKipNOCB"
      }
    },
    {
      "cell_type": "markdown",
      "source": [],
      "metadata": {
        "id": "anH4mv_1NN-Q"
      }
    },
    {
      "cell_type": "code",
      "source": [
        "class BankAccount:\n",
        "    def __init__(self, account_number, initial_balance=0):\n",
        "        self.__account_number = account_number  # Private  for account number\n",
        "        self.__balance = initial_balance\n",
        "\n",
        "    def deposit(self, amount):\n",
        "        if amount > 0:\n",
        "            self.__balance += amount\n",
        "            print(f\"Deposited: {amount}. New balance: {self.__balance}\")\n",
        "        else:\n",
        "            print(\"Deposit amount must be positive.\")\n",
        "\n",
        "    def withdraw(self, amount):\n",
        "        if amount > 0 and amount <= self.__balance:\n",
        "            self.__balance -= amount\n",
        "            print(f\"Withdrew: {amount}. Remaining balance: {self.__balance}\")\n",
        "        elif amount > self.__balance:\n",
        "            print(\"Insufficient funds.\")\n",
        "        else:\n",
        "            print(\"Withdrawal amount must be positive.\")\n",
        "\n",
        "    def get_balance(self):\n",
        "        return f\"Current balance: {self.__balance}\"\n",
        "\n",
        "    def get_account_number(self):\n",
        "        return self.__account_number"
      ],
      "metadata": {
        "id": "1C2FT2jWM_Ew"
      },
      "execution_count": 147,
      "outputs": []
    },
    {
      "cell_type": "code",
      "source": [
        "account = BankAccount(\"123456789\", 100)"
      ],
      "metadata": {
        "id": "nchY6fpSOKQz"
      },
      "execution_count": 148,
      "outputs": []
    },
    {
      "cell_type": "code",
      "source": [
        "account.deposit(50)"
      ],
      "metadata": {
        "colab": {
          "base_uri": "https://localhost:8080/"
        },
        "id": "G1T5sXKtOYSn",
        "outputId": "6da3fa89-fcde-4156-9c95-408e034b6edc"
      },
      "execution_count": 149,
      "outputs": [
        {
          "output_type": "stream",
          "name": "stdout",
          "text": [
            "Deposited: 50. New balance: 150\n"
          ]
        }
      ]
    },
    {
      "cell_type": "code",
      "source": [
        "account.withdraw(30)"
      ],
      "metadata": {
        "colab": {
          "base_uri": "https://localhost:8080/"
        },
        "id": "COt7lcVJObKE",
        "outputId": "5ade108d-707d-4669-d69d-df2767a031d4"
      },
      "execution_count": 150,
      "outputs": [
        {
          "output_type": "stream",
          "name": "stdout",
          "text": [
            "Withdrew: 30. Remaining balance: 120\n"
          ]
        }
      ]
    },
    {
      "cell_type": "code",
      "source": [
        "print(account.get_balance())"
      ],
      "metadata": {
        "colab": {
          "base_uri": "https://localhost:8080/"
        },
        "id": "XkWc2g5COens",
        "outputId": "ae2a5926-26d7-4f9d-9124-b59346082ed1"
      },
      "execution_count": 151,
      "outputs": [
        {
          "output_type": "stream",
          "name": "stdout",
          "text": [
            "Current balance: 120\n"
          ]
        }
      ]
    },
    {
      "cell_type": "markdown",
      "source": [
        "11.Write a class that overrides the __str__ and __add__ magic methods. What will these methods allow you to do"
      ],
      "metadata": {
        "id": "dfIdobIMPStU"
      }
    },
    {
      "cell_type": "markdown",
      "source": [
        "Ans.By overriding the __str__ method, we can customize how objects are represented as strings, which enhances readability.\n",
        "By overriding the __add__ method, we can define how instances of our class can be combined using the addition operator, making the class more intuitive and flexible to use.\n",
        "\n",
        "\n",
        "\n",
        "\n",
        "\n"
      ],
      "metadata": {
        "id": "M809kgdfPSeg"
      }
    },
    {
      "cell_type": "code",
      "source": [
        "class light:\n",
        "    def __init__(self, x, y):\n",
        "        self.x = x\n",
        "        self.y = y\n",
        "\n",
        "    # Override the __str__ method\n",
        "    def __str__(self):\n",
        "        return f\"light({self.x}, {self.y})\"\n",
        "\n",
        "    # Override the __add__ method\n",
        "    def __add__(self, other):\n",
        "        if isinstance(other, light):\n",
        "            return light(self.x + other.x, self.y + other.y)"
      ],
      "metadata": {
        "id": "IJ9zFb9UOpWl"
      },
      "execution_count": 152,
      "outputs": []
    },
    {
      "cell_type": "code",
      "source": [
        "a = light(2,3)\n",
        "b= light(4,5)"
      ],
      "metadata": {
        "id": "AaTpH2wyP7bS"
      },
      "execution_count": 156,
      "outputs": []
    },
    {
      "cell_type": "code",
      "source": [
        "c= a+b"
      ],
      "metadata": {
        "id": "jMUls3T3QCl1"
      },
      "execution_count": 157,
      "outputs": []
    },
    {
      "cell_type": "code",
      "source": [
        "print(c)"
      ],
      "metadata": {
        "colab": {
          "base_uri": "https://localhost:8080/"
        },
        "id": "PYiNcUbeQJLM",
        "outputId": "f1c1d04e-c42b-4548-f4d7-262b6de7212d"
      },
      "execution_count": 159,
      "outputs": [
        {
          "output_type": "stream",
          "name": "stdout",
          "text": [
            "light(6, 8)\n"
          ]
        }
      ]
    },
    {
      "cell_type": "markdown",
      "source": [
        "12.Create a decorator that measures and prints the execution time of a function."
      ],
      "metadata": {
        "id": "Y7YFh_BZR1Sv"
      }
    },
    {
      "cell_type": "markdown",
      "source": [
        "Ans.A decorator in Python is a function that takes another function as an argument and extends its behavior without explicitly modifying it. We can create a decorator that measures and prints the execution time of a function using the time module.\n",
        "\n"
      ],
      "metadata": {
        "id": "4PnJ0kh4R1FE"
      }
    },
    {
      "cell_type": "code",
      "source": [
        "import time\n",
        "def timer_decorator(func):\n",
        "  def timer():\n",
        "    start = time.time()\n",
        "    func()\n",
        "    end = time.time()\n",
        "    print(\"the time execute the code\",end-start)\n",
        "  return timer\n",
        "\n",
        ""
      ],
      "metadata": {
        "id": "0KYdGQIXQejQ"
      },
      "execution_count": 161,
      "outputs": []
    },
    {
      "cell_type": "code",
      "source": [
        "@timer_decorator\n",
        "def func_test():\n",
        "   print(121*524)"
      ],
      "metadata": {
        "id": "3Vlj1EdsRaKa"
      },
      "execution_count": 164,
      "outputs": []
    },
    {
      "cell_type": "code",
      "source": [
        "func_test()"
      ],
      "metadata": {
        "colab": {
          "base_uri": "https://localhost:8080/"
        },
        "id": "z2HB6UPQRfUI",
        "outputId": "fb37bc2e-6d10-4066-862b-d201628416b0"
      },
      "execution_count": 165,
      "outputs": [
        {
          "output_type": "stream",
          "name": "stdout",
          "text": [
            "63404\n",
            "the time execute the code 9.751319885253906e-05\n"
          ]
        }
      ]
    },
    {
      "cell_type": "markdown",
      "source": [
        "13.Explain the concept of the Diamond Problem in multiple inheritance. How does Python resolve it?\n",
        "\n"
      ],
      "metadata": {
        "id": "02Thuf4_SNYZ"
      }
    },
    {
      "cell_type": "markdown",
      "source": [
        "Ans.The Diamond Problem creates ambiguity in multiple inheritance when a class inherits from two classes that share a common ancestor.Python resolves this ambiguity using the C3 Linearization algorithm, which defines a clear method resolution order (MRO) for classes"
      ],
      "metadata": {
        "id": "K7ZMzY1nSM2Z"
      }
    },
    {
      "cell_type": "code",
      "source": [
        "class A:\n",
        "    def method(self):\n",
        "        print(\"Method in A\")\n",
        "\n",
        "class B(A):\n",
        "    def method(self):\n",
        "        print(\"Method in B\")\n",
        "\n",
        "class C(A):\n",
        "    def method(self):\n",
        "        print(\"Method in C\")\n",
        "\n",
        "class D(B, C):\n",
        "  pass"
      ],
      "metadata": {
        "id": "R5DqFTf4RvDW"
      },
      "execution_count": 166,
      "outputs": []
    },
    {
      "cell_type": "code",
      "source": [
        "a =D()"
      ],
      "metadata": {
        "id": "0xf55axsSsi0"
      },
      "execution_count": 168,
      "outputs": []
    },
    {
      "cell_type": "code",
      "source": [
        "a.method()"
      ],
      "metadata": {
        "colab": {
          "base_uri": "https://localhost:8080/"
        },
        "id": "bWOoYZxwSw5Z",
        "outputId": "c30f9103-0f36-4512-f7d4-998f8a416977"
      },
      "execution_count": 170,
      "outputs": [
        {
          "output_type": "stream",
          "name": "stdout",
          "text": [
            "Method in B\n"
          ]
        }
      ]
    },
    {
      "cell_type": "markdown",
      "source": [
        "14.Write a class method that keeps track of the number of instances created from a class."
      ],
      "metadata": {
        "id": "HuiNDmxCTLb6"
      }
    },
    {
      "cell_type": "markdown",
      "source": [
        "Ans. This implementation effectively keeps track of the number of instances of the class, demonstrating the use of class variables and class methods in Python."
      ],
      "metadata": {
        "id": "DvllbBMZTLLY"
      }
    },
    {
      "cell_type": "code",
      "source": [
        "class InstanceCounter:\n",
        "    instance_count = 0\n",
        "\n",
        "    def __init__(self):\n",
        "        InstanceCounter.instance_count += 1\n",
        "\n",
        "    @classmethod\n",
        "    def get_instance_count(cls):\n",
        "        return cls.instance_count"
      ],
      "metadata": {
        "id": "NLzKlBmGS660"
      },
      "execution_count": 171,
      "outputs": []
    },
    {
      "cell_type": "code",
      "source": [
        "obj1 = InstanceCounter()\n",
        "obj2 = InstanceCounter()\n",
        "obj3 = InstanceCounter()"
      ],
      "metadata": {
        "id": "71ifvEW1TofQ"
      },
      "execution_count": 172,
      "outputs": []
    },
    {
      "cell_type": "code",
      "source": [
        "obj1.get_instance_count()"
      ],
      "metadata": {
        "colab": {
          "base_uri": "https://localhost:8080/"
        },
        "id": "OnI7W0RsTrt2",
        "outputId": "63208418-1bc0-4d0e-c0ac-508efc336539"
      },
      "execution_count": 174,
      "outputs": [
        {
          "output_type": "execute_result",
          "data": {
            "text/plain": [
              "3"
            ]
          },
          "metadata": {},
          "execution_count": 174
        }
      ]
    },
    {
      "cell_type": "markdown",
      "source": [
        "15.Implement a static method in a class that checks if a given year is a leap year."
      ],
      "metadata": {
        "id": "uTTSKQylUOIp"
      }
    },
    {
      "cell_type": "markdown",
      "source": [
        "Ans."
      ],
      "metadata": {
        "id": "VJ8zbyJmUN-L"
      }
    },
    {
      "cell_type": "code",
      "source": [
        "class YearUtils:\n",
        "    @staticmethod\n",
        "    def is_leap_year(year):\n",
        "        \"\"\"Check if the given year is a leap year.\"\"\"\n",
        "        if (year % 4 == 0 and year % 100 != 0) or (year % 400 == 0):\n",
        "            return True\n",
        "        return False\n",
        "\n",
        "# Example usage\n",
        "year = 2024\n",
        "if YearUtils.is_leap_year(year):\n",
        "    print(f\"{year} is a leap year.\")\n",
        "else:\n",
        "    print(f\"{year} is not a leap year.\")\n",
        "\n",
        "year = 1900\n",
        "if YearUtils.is_leap_year(year):\n",
        "    print(f\"{year} is a leap year.\")\n",
        "else:\n",
        "    print(f\"{year} is not a leap year.\")\n"
      ],
      "metadata": {
        "colab": {
          "base_uri": "https://localhost:8080/"
        },
        "id": "FJn_owntTxyC",
        "outputId": "b2258c5b-0274-49b1-c850-90973639c857"
      },
      "execution_count": 176,
      "outputs": [
        {
          "output_type": "stream",
          "name": "stdout",
          "text": [
            "2024 is a leap year.\n",
            "1900 is not a leap year.\n"
          ]
        }
      ]
    },
    {
      "cell_type": "code",
      "source": [],
      "metadata": {
        "id": "jERtKN1qVu8N"
      },
      "execution_count": null,
      "outputs": []
    },
    {
      "cell_type": "code",
      "source": [],
      "metadata": {
        "id": "Pv0BT0ojT4zz"
      },
      "execution_count": null,
      "outputs": []
    }
  ]
}